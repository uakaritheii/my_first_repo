{
 "cells": [
  {
   "cell_type": "code",
   "execution_count": 2,
   "id": "initial_id",
   "metadata": {
    "ExecuteTime": {
     "end_time": "2025-05-09T09:41:39.000398Z",
     "start_time": "2025-05-09T09:41:38.995695Z"
    }
   },
   "outputs": [
    {
     "data": {
      "text/plain": [
       "[5, 6, 7, 8, 9, 10]"
      ]
     },
     "execution_count": 2,
     "metadata": {},
     "output_type": "execute_result"
    }
   ],
   "source": [
    "# slicing\n",
    "\n",
    "alist = list(range(5,11))\n",
    "alist"
   ]
  },
  {
   "cell_type": "code",
   "execution_count": 21,
   "id": "f5de64e45edda955",
   "metadata": {
    "ExecuteTime": {
     "end_time": "2025-05-09T09:41:39.293358Z",
     "start_time": "2025-05-09T09:41:39.290662Z"
    }
   },
   "outputs": [
    {
     "name": "stdout",
     "output_type": "stream",
     "text": [
      "[5, 6, 7, 8, 9, 10]\n",
      "[5, 6, 7, 8, 9, 10]\n",
      "[9, 10]\n",
      "[5, 6, 7, 8, 9, 10]\n",
      "[5, 6]\n",
      "[5, 6, 7, 8, 9, 10]\n",
      "[5, 6, 7, 8, 9]\n"
     ]
    }
   ],
   "source": [
    "# Python starts counting at 0\n",
    "# Indexing is lower bound inclusive and upper bound exclusive\n",
    "\n",
    "print(alist[0:6]) # this returns the entire list 0th to 5th\n",
    "# upper bounds can be omitted\n",
    "print(alist[0:]) # entire list\n",
    "print(alist[4:])\n",
    "\n",
    "# lower bounds can also be omitted\n",
    "print(alist[:6]) # entire list\n",
    "print(alist[:2])\n",
    "\n",
    "#negative indexes can also be used\n",
    "print(alist[-6:])\n",
    "print(alist[:-1])\n"
   ]
  },
  {
   "cell_type": "code",
   "execution_count": 22,
   "id": "526c085acf3c36dd",
   "metadata": {
    "ExecuteTime": {
     "end_time": "2025-05-09T09:41:39.303377Z",
     "start_time": "2025-05-09T09:41:39.301727Z"
    }
   },
   "outputs": [
    {
     "name": "stdout",
     "output_type": "stream",
     "text": [
      "[5, 7, 9]\n",
      "[8, 10]\n"
     ]
    },
    {
     "data": {
      "text/plain": [
       "[9, 8, 7, 6, 5]"
      ]
     },
     "execution_count": 22,
     "metadata": {},
     "output_type": "execute_result"
    }
   ],
   "source": [
    "# slicing also involves a stepping element\n",
    "\n",
    "print(alist[::2]) # iterate through the entire list skipping in twos\n",
    "print(alist[3::2])\n",
    "\n",
    "# lists can also be iterated backwards\n",
    "\n",
    "alist[-2::-2] # returns 9, 7, 5 as it begins \n",
    "alist[-2::-1] "
   ]
  },
  {
   "cell_type": "code",
   "execution_count": 27,
   "id": "0916d5b1-457d-4065-881b-7d94213e3819",
   "metadata": {},
   "outputs": [
    {
     "data": {
      "text/plain": [
       "'Mike is a nice guy'"
      ]
     },
     "execution_count": 27,
     "metadata": {},
     "output_type": "execute_result"
    }
   ],
   "source": [
    "#Exercise\n",
    "#Extract \"Mike is a nice guy\" from the following string\n",
    "\n",
    "text = '345dfyug ecin a si ekiM 94845d'\n",
    "text[-8:4:-1]\n",
    "\n"
   ]
  }
 ],
 "metadata": {
  "kernelspec": {
   "display_name": "Python 3 (ipykernel)",
   "language": "python",
   "name": "python3"
  },
  "language_info": {
   "codemirror_mode": {
    "name": "ipython",
    "version": 3
   },
   "file_extension": ".py",
   "mimetype": "text/x-python",
   "name": "python",
   "nbconvert_exporter": "python",
   "pygments_lexer": "ipython3",
   "version": "3.13.3"
  }
 },
 "nbformat": 4,
 "nbformat_minor": 5
}

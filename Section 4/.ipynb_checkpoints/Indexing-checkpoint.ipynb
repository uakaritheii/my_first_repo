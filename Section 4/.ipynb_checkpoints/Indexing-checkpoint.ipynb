{
 "cells": [
  {
   "cell_type": "code",
   "id": "initial_id",
   "metadata": {
    "collapsed": true,
    "ExecuteTime": {
     "end_time": "2025-05-08T20:14:30.906165Z",
     "start_time": "2025-05-08T20:14:30.903910Z"
    }
   },
   "source": [
    "from pkg_resources import add_activation_listener\n",
    "\n",
    "#indexing\n",
    "\n",
    "arange = range(10, 15)\n",
    "print(arange)\n",
    "%whos"
   ],
   "outputs": [
    {
     "name": "stdout",
     "output_type": "stream",
     "text": [
      "range(10, 15)\n",
      "Variable                        Type        Data/Info\n",
      "-----------------------------------------------------\n",
      "add_activation_listener         method      <bound method WorkingSet.<...>t at 0x000002627C6EDA90>>\n",
      "arange                          range       range(10, 15)\n",
      "idx                             int         -2\n",
      "pydev_jupyter_vars              module      <module 'pydev_jupyter_va<...>\\\\pydev_jupyter_vars.py'>\n",
      "remove_imported_pydev_package   function    <function remove_imported<...>ge at 0x000002627C773CE0>\n",
      "rlist                           list        n=4\n",
      "sys                             module      <module 'sys' (built-in)>\n"
     ]
    }
   ],
   "execution_count": 10
  },
  {
   "metadata": {
    "ExecuteTime": {
     "end_time": "2025-05-08T20:14:31.121871Z",
     "start_time": "2025-05-08T20:14:31.119943Z"
    }
   },
   "cell_type": "code",
   "source": [
    "rlist = list(arange)\n",
    "print(rlist)"
   ],
   "id": "97060d8654939b35",
   "outputs": [
    {
     "name": "stdout",
     "output_type": "stream",
     "text": [
      "[10, 11, 12, 13, 14]\n"
     ]
    }
   ],
   "execution_count": 11
  },
  {
   "metadata": {
    "ExecuteTime": {
     "end_time": "2025-05-08T20:14:31.308077Z",
     "start_time": "2025-05-08T20:14:31.305778Z"
    }
   },
   "cell_type": "code",
   "source": [
    "#As Python starts counting from 0 our index will always have to be offset by 1\n",
    "\n",
    "print(rlist[0]) #first element\n",
    "print(rlist[-1]) #last element"
   ],
   "id": "4edf12a9e00218ea",
   "outputs": [
    {
     "name": "stdout",
     "output_type": "stream",
     "text": [
      "10\n",
      "14\n"
     ]
    }
   ],
   "execution_count": 12
  },
  {
   "metadata": {
    "ExecuteTime": {
     "end_time": "2025-05-08T20:14:31.493658Z",
     "start_time": "2025-05-08T20:14:31.491353Z"
    }
   },
   "cell_type": "code",
   "source": [
    "idx = -2\n",
    "print(rlist[idx])"
   ],
   "id": "97a002fe5f116b90",
   "outputs": [
    {
     "name": "stdout",
     "output_type": "stream",
     "text": [
      "13\n"
     ]
    }
   ],
   "execution_count": 13
  },
  {
   "metadata": {
    "ExecuteTime": {
     "end_time": "2025-05-08T20:16:47.719791Z",
     "start_time": "2025-05-08T20:16:47.717055Z"
    }
   },
   "cell_type": "code",
   "source": [
    "del rlist\n",
    "\n",
    "rlist = [4,3,[9,4,5],4] #indexing elements that are inside nested lists\n",
    "print(rlist[2][2]) # indexing twice"
   ],
   "id": "a637e4fc0b18d765",
   "outputs": [
    {
     "name": "stdout",
     "output_type": "stream",
     "text": [
      "5\n"
     ]
    }
   ],
   "execution_count": 15
  },
  {
   "metadata": {
    "ExecuteTime": {
     "end_time": "2025-05-08T20:17:34.403973Z",
     "start_time": "2025-05-08T20:17:34.401969Z"
    }
   },
   "cell_type": "code",
   "source": [
    "# indexing also works for strings\n",
    "s = 'hello world'\n",
    "print(s[0]) # first character\n",
    "print(s[-1]) # last character"
   ],
   "id": "e9e854799b7f7330",
   "outputs": [
    {
     "name": "stdout",
     "output_type": "stream",
     "text": [
      "h\n",
      "d\n"
     ]
    }
   ],
   "execution_count": 17
  },
  {
   "metadata": {
    "ExecuteTime": {
     "end_time": "2025-05-08T20:19:14.223076Z",
     "start_time": "2025-05-08T20:19:14.220627Z"
    }
   },
   "cell_type": "code",
   "source": [
    "# Exercise\n",
    "# Obtain the attribute of penguin from the following list\n",
    "\n",
    "listlist = [4, 'hi', [5,4,3], 'yo', "
   ],
   "id": "83f3d66e4b86ccd7",
   "outputs": [
    {
     "ename": "SyntaxError",
     "evalue": "invalid syntax. Perhaps you forgot a comma? (3852911989.py, line 4)",
     "output_type": "error",
     "traceback": [
      "  \u001B[36mCell\u001B[39m\u001B[36m \u001B[39m\u001B[32mIn[19]\u001B[39m\u001B[32m, line 4\u001B[39m\n\u001B[31m    \u001B[39m\u001B[31mlistlist = [4, 'hi', [5,4,3], 'yo', {'Squirrel': 'cute, 'Penguin': 'Yummy''}]\u001B[39m\n                                                     ^\n\u001B[31mSyntaxError\u001B[39m\u001B[31m:\u001B[39m invalid syntax. Perhaps you forgot a comma?\n"
     ]
    }
   ],
   "execution_count": 19
  }
 ],
 "metadata": {
  "kernelspec": {
   "display_name": "Python 3",
   "language": "python",
   "name": "python3"
  },
  "language_info": {
   "codemirror_mode": {
    "name": "ipython",
    "version": 2
   },
   "file_extension": ".py",
   "mimetype": "text/x-python",
   "name": "python",
   "nbconvert_exporter": "python",
   "pygments_lexer": "ipython2",
   "version": "2.7.6"
  }
 },
 "nbformat": 4,
 "nbformat_minor": 5
}

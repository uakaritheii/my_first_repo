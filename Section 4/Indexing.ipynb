{
 "cells": [
  {
   "cell_type": "code",
   "execution_count": 3,
   "id": "initial_id",
   "metadata": {
    "ExecuteTime": {
     "end_time": "2025-05-08T20:14:30.906165Z",
     "start_time": "2025-05-08T20:14:30.903910Z"
    }
   },
   "outputs": [
    {
     "name": "stdout",
     "output_type": "stream",
     "text": [
      "range(10, 15)\n",
      "Variable                  Type      Data/Info\n",
      "---------------------------------------------\n",
      "add_activation_listener   method    <bound method WorkingSet.<...>t at 0x0000024DAA9B57F0>>\n",
      "arange                    range     range(10, 15)\n"
     ]
    }
   ],
   "source": [
    "#indexing\n",
    "\n",
    "arange = range(10, 15) #inclusive of 10 and exclusive of 15\n",
    "print(arange)\n",
    "%whos"
   ]
  },
  {
   "cell_type": "code",
   "execution_count": 5,
   "id": "97060d8654939b35",
   "metadata": {
    "ExecuteTime": {
     "end_time": "2025-05-08T20:14:31.121871Z",
     "start_time": "2025-05-08T20:14:31.119943Z"
    }
   },
   "outputs": [
    {
     "name": "stdout",
     "output_type": "stream",
     "text": [
      "[10, 11, 12, 13, 14]\n"
     ]
    }
   ],
   "source": [
    "rlist = list(arange)\n",
    "print(rlist)"
   ]
  },
  {
   "cell_type": "code",
   "execution_count": 7,
   "id": "4edf12a9e00218ea",
   "metadata": {
    "ExecuteTime": {
     "end_time": "2025-05-08T20:14:31.308077Z",
     "start_time": "2025-05-08T20:14:31.305778Z"
    }
   },
   "outputs": [
    {
     "name": "stdout",
     "output_type": "stream",
     "text": [
      "10\n",
      "14\n",
      "14\n"
     ]
    }
   ],
   "source": [
    "#As Python starts counting from 0 our index will always have to be offset by 1\n",
    "print(rlist[0]) #first element\n",
    "print(rlist[-1]) #last element\n",
    "print(rlist[len(rlist)-1])"
   ]
  },
  {
   "cell_type": "code",
   "execution_count": 13,
   "id": "97a002fe5f116b90",
   "metadata": {
    "ExecuteTime": {
     "end_time": "2025-05-08T20:14:31.493658Z",
     "start_time": "2025-05-08T20:14:31.491353Z"
    }
   },
   "outputs": [
    {
     "name": "stdout",
     "output_type": "stream",
     "text": [
      "13\n"
     ]
    }
   ],
   "source": [
    "idx = -2 #change if needed based on x parameter\n",
    "print(rlist[idx])"
   ]
  },
  {
   "cell_type": "code",
   "execution_count": 15,
   "id": "a637e4fc0b18d765",
   "metadata": {
    "ExecuteTime": {
     "end_time": "2025-05-08T20:16:47.719791Z",
     "start_time": "2025-05-08T20:16:47.717055Z"
    }
   },
   "outputs": [
    {
     "name": "stdout",
     "output_type": "stream",
     "text": [
      "5\n"
     ]
    }
   ],
   "source": [
    "del rlist\n",
    "\n",
    "rlist = [4,3,[9,4,5],4] #indexing elements that are inside nested lists\n",
    "print(rlist[2][2]) # indexing twice"
   ]
  },
  {
   "cell_type": "code",
   "execution_count": 17,
   "id": "e9e854799b7f7330",
   "metadata": {
    "ExecuteTime": {
     "end_time": "2025-05-08T20:17:34.403973Z",
     "start_time": "2025-05-08T20:17:34.401969Z"
    }
   },
   "outputs": [
    {
     "name": "stdout",
     "output_type": "stream",
     "text": [
      "h\n",
      "d\n"
     ]
    }
   ],
   "source": [
    "# indexing also works for strings\n",
    "s = 'hello world'\n",
    "print(s[0]) # first character\n",
    "print(s[-1]) # last character"
   ]
  },
  {
   "cell_type": "code",
   "execution_count": 20,
   "id": "83f3d66e4b86ccd7",
   "metadata": {
    "ExecuteTime": {
     "end_time": "2025-05-08T20:22:43.080481Z",
     "start_time": "2025-05-08T20:22:43.077899Z"
    }
   },
   "outputs": [
    {
     "name": "stdout",
     "output_type": "stream",
     "text": [
      "yummy\n"
     ]
    }
   ],
   "source": [
    "# Exercise\n",
    "\n",
    "listlist = [4, 'hi', [5,4,3], 'yo', {'squirrel':'cute', 'Penguin':'yummy'}]\n",
    "print(listlist[4]['Penguin'])"
   ]
  }
 ],
 "metadata": {
  "kernelspec": {
   "display_name": "Python 3 (ipykernel)",
   "language": "python",
   "name": "python3"
  },
  "language_info": {
   "codemirror_mode": {
    "name": "ipython",
    "version": 3
   },
   "file_extension": ".py",
   "mimetype": "text/x-python",
   "name": "python",
   "nbconvert_exporter": "python",
   "pygments_lexer": "ipython3",
   "version": "3.13.3"
  }
 },
 "nbformat": 4,
 "nbformat_minor": 5
}

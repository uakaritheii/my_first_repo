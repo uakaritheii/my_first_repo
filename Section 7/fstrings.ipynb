{
 "cells": [
  {
   "cell_type": "code",
   "execution_count": 39,
   "id": "a693bcc4-9337-40e2-a82d-db008f1a99f5",
   "metadata": {
    "editable": true,
    "slideshow": {
     "slide_type": ""
    },
    "tags": []
   },
   "outputs": [
    {
     "name": "stdout",
     "output_type": "stream",
     "text": [
      "I would like to have 45.3 cellar doors or 80 cellar doors\n",
      "45\n",
      "45.3\n",
      "6.471\n"
     ]
    }
   ],
   "source": [
    "num = 45.3\n",
    "sng = 'cellar doors'\n",
    "\n",
    "# %g refers to general-format numbers\n",
    "# %i refers to integers\n",
    "# %s refers to strings\n",
    "\n",
    "print('I would like to have %g %s or 80 %s'%(num, sng, sng))\n",
    "\n",
    "# We also have control over the formatting of numbers using %f\n",
    "\n",
    "print('%.0f'%num)\n",
    "print('%.1f'%num) #f allows us to control the precision of our values\n",
    "print('%.3f'%(num/7))"
   ]
  },
  {
   "cell_type": "code",
   "execution_count": 40,
   "id": "d763a8ed-870d-4fcd-87d3-0112fbe7e445",
   "metadata": {},
   "outputs": [
    {
     "name": "stdout",
     "output_type": "stream",
     "text": [
      "I would like to have 45.3 cellar doors or 80 cellar doors\n"
     ]
    }
   ],
   "source": [
    "# f-string represntation\n",
    "\n",
    "print(f\"I would like to have {num} {sng} or 80 {sng}\")"
   ]
  },
  {
   "cell_type": "code",
   "execution_count": 41,
   "id": "43486c7a-1ed8-471a-a436-29ad251958da",
   "metadata": {},
   "outputs": [
    {
     "name": "stdout",
     "output_type": "stream",
     "text": [
      "I would like to have 45.3 cellar doors or 80 cellar doors\n"
     ]
    }
   ],
   "source": [
    "#formatted representation\n",
    "\n",
    "print(\"I would like to have {n} {s} or 80 {s}\".format(n = num, s = sng))"
   ]
  },
  {
   "cell_type": "code",
   "execution_count": 53,
   "id": "1a6e6c2d-d69a-49d6-8665-45b394a707a3",
   "metadata": {},
   "outputs": [
    {
     "name": "stdout",
     "output_type": "stream",
     "text": [
      "a is the 1st letter of the alphabet\n",
      "b is the 2nd letter of the alphabet\n",
      "c is the 3rd letter of the alphabet\n",
      "d is the 4th letter of the alphabet\n",
      "e is the 5th letter of the alphabet\n",
      "f is the 6th letter of the alphabet\n",
      "g is the 7th letter of the alphabet\n",
      "h is the 8th letter of the alphabet\n",
      "i is the 9th letter of the alphabet\n",
      "j is the 10th letter of the alphabet\n",
      "k is the 11th letter of the alphabet\n",
      "l is the 12th letter of the alphabet\n",
      "m is the 13th letter of the alphabet\n",
      "n is the 14th letter of the alphabet\n",
      "o is the 15th letter of the alphabet\n",
      "p is the 16th letter of the alphabet\n",
      "q is the 17th letter of the alphabet\n",
      "r is the 18th letter of the alphabet\n",
      "s is the 19th letter of the alphabet\n",
      "t is the 20th letter of the alphabet\n",
      "u is the 21st letter of the alphabet\n",
      "v is the 22nd letter of the alphabet\n",
      "w is the 23rd letter of the alphabet\n",
      "x is the 24th letter of the alphabet\n",
      "y is the 25th letter of the alphabet\n",
      "z is the 26th letter of the alphabet\n"
     ]
    }
   ],
   "source": [
    "#Exercise \n",
    "import string\n",
    "alph = string.ascii_lowercase\n",
    "for i in range(len(alph)):\n",
    "\n",
    "    if not i%10 and i != 10:\n",
    "        k = 'st'\n",
    "    elif i%10 == 1 and i != 11:\n",
    "        k = 'nd'\n",
    "    elif i%10 == 2 and i != 12:\n",
    "        k = 'rd'\n",
    "    else:\n",
    "        k = 'th'\n",
    "    \n",
    "    s1 = \"%s is the %s%s letter of the alphabet\"%(alph[i], i+1, k)\n",
    "    print(s1)"
   ]
  },
  {
   "cell_type": "code",
   "execution_count": null,
   "id": "e8a69d1b-a7a0-4b15-9633-ade827698b76",
   "metadata": {},
   "outputs": [],
   "source": []
  }
 ],
 "metadata": {
  "kernelspec": {
   "display_name": "Python 3 (ipykernel)",
   "language": "python",
   "name": "python3"
  },
  "language_info": {
   "codemirror_mode": {
    "name": "ipython",
    "version": 3
   },
   "file_extension": ".py",
   "mimetype": "text/x-python",
   "name": "python",
   "nbconvert_exporter": "python",
   "pygments_lexer": "ipython3",
   "version": "3.13.3"
  }
 },
 "nbformat": 4,
 "nbformat_minor": 5
}

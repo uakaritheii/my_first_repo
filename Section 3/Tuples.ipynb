{
 "cells": [
  {
   "cell_type": "code",
   "execution_count": 1,
   "id": "initial_id",
   "metadata": {
    "ExecuteTime": {
     "end_time": "2025-05-08T18:38:18.320661Z",
     "start_time": "2025-05-08T18:38:18.318582Z"
    }
   },
   "outputs": [
    {
     "name": "stdout",
     "output_type": "stream",
     "text": [
      "Variable   Type     Data/Info\n",
      "-----------------------------\n",
      "atuple     tuple    n=3\n"
     ]
    }
   ],
   "source": [
    "#A tuple is a similar data type to a list\n",
    "\n",
    "atuple = (3, '4', 3)\n",
    "%whos"
   ]
  },
  {
   "cell_type": "code",
   "execution_count": 5,
   "id": "c29177ffa7fa39c2",
   "metadata": {
    "ExecuteTime": {
     "end_time": "2025-05-08T18:39:29.213745Z",
     "start_time": "2025-05-08T18:39:29.211292Z"
    }
   },
   "outputs": [
    {
     "name": "stdout",
     "output_type": "stream",
     "text": [
      "(3, '4', 3, 3, '4', 3, 3, '4', 3)\n"
     ]
    },
    {
     "data": {
      "text/plain": [
       "[1, 4, 7, 9]"
      ]
     },
     "execution_count": 5,
     "metadata": {},
     "output_type": "execute_result"
    }
   ],
   "source": [
    "# tuples behave like lists in some regards\n",
    "# The major difference between the two is that tuples are immutable\n",
    "# Tuples are useful when storing data that you don't want modified\n",
    "btuple= (1,9,4,7)\n",
    "print(atuple*3)\n",
    "atuple.count('4')\n",
    "sorted(btuple)"
   ]
  },
  {
   "cell_type": "code",
   "execution_count": 9,
   "id": "56a2d8931b199c83",
   "metadata": {
    "ExecuteTime": {
     "end_time": "2025-05-08T18:42:38.484745Z",
     "start_time": "2025-05-08T18:42:38.482585Z"
    }
   },
   "outputs": [
    {
     "name": "stdout",
     "output_type": "stream",
     "text": [
      "[3, 2, 3]\n",
      "TypeError\n"
     ]
    }
   ],
   "source": [
    "# Now let us change an element in the list and try the same for a tuple\n",
    "\n",
    "alist = [1,2,3]\n",
    "alist[0] = 3\n",
    "print(alist)\n",
    "\n",
    "try:\n",
    "    atuple[0] = 3\n",
    "except TypeError:\n",
    "    print('TypeError') #from our error result we can see we can't change the elements inside"
   ]
  },
  {
   "cell_type": "code",
   "execution_count": 12,
   "id": "78d1d55435181b36",
   "metadata": {
    "ExecuteTime": {
     "end_time": "2025-05-08T18:43:15.658983Z",
     "start_time": "2025-05-08T18:43:15.657022Z"
    }
   },
   "outputs": [
    {
     "name": "stdout",
     "output_type": "stream",
     "text": [
      "<class 'tuple'>\n",
      "<class 'list'>\n"
     ]
    }
   ],
   "source": [
    "# We can however change a tuple to alist\n",
    "v = list(atuple)\n",
    "print(type(atuple))\n",
    "print(type(v))"
   ]
  },
  {
   "cell_type": "code",
   "execution_count": null,
   "id": "2ae1d0a1d72f2ea0",
   "metadata": {},
   "outputs": [],
   "source": []
  }
 ],
 "metadata": {
  "kernelspec": {
   "display_name": "Python 3 (ipykernel)",
   "language": "python",
   "name": "python3"
  },
  "language_info": {
   "codemirror_mode": {
    "name": "ipython",
    "version": 3
   },
   "file_extension": ".py",
   "mimetype": "text/x-python",
   "name": "python",
   "nbconvert_exporter": "python",
   "pygments_lexer": "ipython3",
   "version": "3.13.3"
  }
 },
 "nbformat": 4,
 "nbformat_minor": 5
}

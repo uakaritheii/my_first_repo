{
 "cells": [
  {
   "cell_type": "code",
   "id": "initial_id",
   "metadata": {
    "collapsed": true,
    "ExecuteTime": {
     "end_time": "2025-05-08T18:46:03.381483Z",
     "start_time": "2025-05-08T18:46:03.379023Z"
    }
   },
   "source": [
    "# Boolean is a data type also known as a logical\n",
    "# Booleans are binary. Either true or false\n",
    "\n",
    "boolTrue = True\n",
    "boolFalse = 'False'\n",
    "%whos"
   ],
   "outputs": [
    {
     "name": "stdout",
     "output_type": "stream",
     "text": [
      "Variable                        Type        Data/Info\n",
      "-----------------------------------------------------\n",
      "boolFalse                       str         False\n",
      "boolTrue                        bool        True\n",
      "pydev_jupyter_vars              module      <module 'pydev_jupyter_va<...>\\\\pydev_jupyter_vars.py'>\n",
      "remove_imported_pydev_package   function    <function remove_imported<...>ge at 0x000001EB06C8ADE0>\n",
      "sys                             module      <module 'sys' (built-in)>\n"
     ]
    }
   ],
   "execution_count": 2
  },
  {
   "metadata": {
    "ExecuteTime": {
     "end_time": "2025-05-08T18:47:58.322068Z",
     "start_time": "2025-05-08T18:47:58.319691Z"
    }
   },
   "cell_type": "code",
   "source": [
    "# the double equal sign is used to check equality\n",
    "\n",
    "print(boolTrue == boolFalse)\n",
    "print(4 == 4)\n",
    "print(4 > 5)\n",
    "print(4 < 5)\n",
    "print(4 != 5) #checks if two things are unequal\n",
    "print(4 != 5)"
   ],
   "id": "82f606131496ca39",
   "outputs": [
    {
     "name": "stdout",
     "output_type": "stream",
     "text": [
      "False\n",
      "True\n",
      "False\n",
      "True\n",
      "True\n",
      "True\n"
     ]
    }
   ],
   "execution_count": 10
  },
  {
   "metadata": {
    "ExecuteTime": {
     "end_time": "2025-05-08T18:48:40.250277Z",
     "start_time": "2025-05-08T18:48:40.247980Z"
    }
   },
   "cell_type": "code",
   "source": [
    "a = 8\n",
    "b = 4\n",
    "outcome = a == b*2\n",
    "print(outcome) # a is indeed 2b"
   ],
   "id": "d51a91c69430f3cb",
   "outputs": [
    {
     "name": "stdout",
     "output_type": "stream",
     "text": [
      "True\n"
     ]
    }
   ],
   "execution_count": 14
  },
  {
   "metadata": {
    "ExecuteTime": {
     "end_time": "2025-05-08T18:49:43.014842Z",
     "start_time": "2025-05-08T18:49:43.012990Z"
    }
   },
   "cell_type": "code",
   "source": [
    "#conjuctive comparisons\n",
    "\n",
    "print(14>5 and 5<10)\n",
    "print(7>10 or 5<10)\n",
    "print(5<10)"
   ],
   "id": "8385ed47c93c1d74",
   "outputs": [
    {
     "name": "stdout",
     "output_type": "stream",
     "text": [
      "True\n",
      "True\n",
      "True\n"
     ]
    }
   ],
   "execution_count": 21
  },
  {
   "metadata": {
    "ExecuteTime": {
     "end_time": "2025-05-08T18:51:26.760954Z",
     "start_time": "2025-05-08T18:51:26.758905Z"
    }
   },
   "cell_type": "code",
   "source": [
    "#any non zero number or non-empty string will return a true\n",
    "print(bool(0))\n",
    "print(bool(''))\n",
    "print(bool(-8))\n",
    "print(bool('nonemptystring'))"
   ],
   "id": "93db7db62040d676",
   "outputs": [
    {
     "name": "stdout",
     "output_type": "stream",
     "text": [
      "False\n",
      "False\n",
      "True\n",
      "True\n"
     ]
    }
   ],
   "execution_count": 28
  },
  {
   "metadata": {
    "ExecuteTime": {
     "end_time": "2025-05-08T18:54:19.789862Z",
     "start_time": "2025-05-08T18:54:13.703715Z"
    }
   },
   "cell_type": "code",
   "source": [
    "#Exercise\n",
    "#Ask the user for three numbers and test if they are pythagorean triplets\n",
    "\n",
    "a = int(input(\"Please enter side length of a: \"))\n",
    "b = int(input(\"Please enter side length of b: \"))\n",
    "c = int(input(\"Please enter side length of c: \"))\n",
    "\n",
    "istriplet = a**2 + b**2 == c**2\n",
    "print(f\"Sides a,b, and c are {istriplet} triplets\")"
   ],
   "id": "52de94b022b8fb88",
   "outputs": [
    {
     "name": "stdout",
     "output_type": "stream",
     "text": [
      "Sides a,b, and c are False triplets\n"
     ]
    }
   ],
   "execution_count": 31
  }
 ],
 "metadata": {
  "kernelspec": {
   "display_name": "Python 3",
   "language": "python",
   "name": "python3"
  },
  "language_info": {
   "codemirror_mode": {
    "name": "ipython",
    "version": 2
   },
   "file_extension": ".py",
   "mimetype": "text/x-python",
   "name": "python",
   "nbconvert_exporter": "python",
   "pygments_lexer": "ipython2",
   "version": "2.7.6"
  }
 },
 "nbformat": 4,
 "nbformat_minor": 5
}

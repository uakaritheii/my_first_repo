{
 "cells": [
  {
   "cell_type": "code",
   "id": "initial_id",
   "metadata": {
    "collapsed": true,
    "ExecuteTime": {
     "end_time": "2025-05-08T12:39:53.393376Z",
     "start_time": "2025-05-08T12:39:53.390906Z"
    }
   },
   "source": [
    "x = 7\n",
    "y = 4.1\n",
    "z = 0\n",
    "\n",
    "%whos"
   ],
   "outputs": [
    {
     "name": "stdout",
     "output_type": "stream",
     "text": [
      "Variable                        Type        Data/Info\n",
      "-----------------------------------------------------\n",
      "pydev_jupyter_vars              module      <module 'pydev_jupyter_va<...>\\\\pydev_jupyter_vars.py'>\n",
      "remove_imported_pydev_package   function    <function remove_imported<...>ge at 0x000002681E67ADE0>\n",
      "sys                             module      <module 'sys' (built-in)>\n",
      "x                               int         7\n",
      "y                               float       4.1\n",
      "z                               int         0\n"
     ]
    }
   ],
   "execution_count": 2
  },
  {
   "metadata": {
    "ExecuteTime": {
     "end_time": "2025-05-08T12:40:42.672989Z",
     "start_time": "2025-05-08T12:40:42.670191Z"
    }
   },
   "cell_type": "code",
   "source": [
    "print(x - 6)\n",
    "c = x + y - 2\n",
    "print(c)"
   ],
   "id": "cd3003c565ea8fa9",
   "outputs": [
    {
     "name": "stdout",
     "output_type": "stream",
     "text": [
      "1\n",
      "9.1\n"
     ]
    }
   ],
   "execution_count": 5
  },
  {
   "metadata": {
    "ExecuteTime": {
     "end_time": "2025-05-08T12:43:12.327909Z",
     "start_time": "2025-05-08T12:43:12.325627Z"
    }
   },
   "cell_type": "code",
   "source": [
    "#floating point algebra\n",
    "print(x*y) #computers do not have arbitrary precision\n",
    "print(x*2)\n",
    "print(x/3.5)\n",
    "print(3**2) #powers\n",
    "print(4**(1/2)) #keep order of operatins in mind"
   ],
   "id": "22e398c7ace21995",
   "outputs": [
    {
     "name": "stdout",
     "output_type": "stream",
     "text": [
      "28.699999999999996\n",
      "14\n",
      "2.0\n",
      "9\n",
      "2.0\n"
     ]
    }
   ],
   "execution_count": 15
  },
  {
   "metadata": {
    "ExecuteTime": {
     "end_time": "2025-05-08T12:42:36.803200Z",
     "start_time": "2025-05-08T12:42:36.800406Z"
    }
   },
   "cell_type": "code",
   "source": [
    "# \\ can be used as a line break\n",
    "4\\\n",
    "    + 3"
   ],
   "id": "f6ad9f9908721476",
   "outputs": [
    {
     "data": {
      "text/plain": [
       "7"
      ]
     },
     "execution_count": 13,
     "metadata": {},
     "output_type": "execute_result"
    }
   ],
   "execution_count": 13
  },
  {
   "metadata": {
    "ExecuteTime": {
     "end_time": "2025-05-08T12:46:54.604918Z",
     "start_time": "2025-05-08T12:46:54.602660Z"
    }
   },
   "cell_type": "code",
   "source": [
    "# strings can be concactenated\n",
    "\n",
    "firstname = 'Mike'\n",
    "lastName = 'Joshua'\n",
    "print(firstname + ' ' + lastName)\n",
    "print(firstname*4) #we can repeat a string using asterisk\n"
   ],
   "id": "a923f2c71abb3dfb",
   "outputs": [
    {
     "name": "stdout",
     "output_type": "stream",
     "text": [
      "Mike Joshua\n",
      "MikeMikeMikeMike\n"
     ]
    }
   ],
   "execution_count": 26
  },
  {
   "metadata": {
    "ExecuteTime": {
     "end_time": "2025-05-08T12:50:21.251458Z",
     "start_time": "2025-05-08T12:50:21.248490Z"
    }
   },
   "cell_type": "code",
   "source": [
    "x = 3\n",
    "y = 5\n",
    "print(str(x) + 'times' + str(y) + 'equals' + str(x*y))\n",
    "print(f\"{x} + {y} = {x+y}\")"
   ],
   "id": "fdf49fff26ce5ce0",
   "outputs": [
    {
     "name": "stdout",
     "output_type": "stream",
     "text": [
      "3times5equals15\n",
      "3 + 5 = 8\n"
     ]
    }
   ],
   "execution_count": 31
  },
  {
   "metadata": {
    "ExecuteTime": {
     "end_time": "2025-05-08T12:53:34.985691Z",
     "start_time": "2025-05-08T12:53:32.643946Z"
    }
   },
   "cell_type": "code",
   "source": [
    "ans = input('Feed me a stray cat ')\n",
    "\n",
    "print(type(ans))"
   ],
   "id": "4db698f904ce6041",
   "outputs": [
    {
     "name": "stdout",
     "output_type": "stream",
     "text": [
      "<class 'str'>\n"
     ]
    }
   ],
   "execution_count": 36
  },
  {
   "metadata": {
    "ExecuteTime": {
     "end_time": "2025-05-08T12:57:03.712066Z",
     "start_time": "2025-05-08T12:57:00.884409Z"
    }
   },
   "cell_type": "code",
   "source": [
    "a = int(input(\"Side 1 length: \"))\n",
    "b = int(input(\"Side 2 length: \"))\n",
    "c = (a**2 + b**2)**(1/2)\n",
    "print(c)"
   ],
   "id": "64d141408355e665",
   "outputs": [
    {
     "name": "stdout",
     "output_type": "stream",
     "text": [
      "5.0\n"
     ]
    }
   ],
   "execution_count": 40
  },
  {
   "metadata": {},
   "cell_type": "code",
   "outputs": [],
   "execution_count": null,
   "source": "",
   "id": "ad5b88e865dcb529"
  }
 ],
 "metadata": {
  "kernelspec": {
   "display_name": "Python 3",
   "language": "python",
   "name": "python3"
  },
  "language_info": {
   "codemirror_mode": {
    "name": "ipython",
    "version": 2
   },
   "file_extension": ".py",
   "mimetype": "text/x-python",
   "name": "python",
   "nbconvert_exporter": "python",
   "pygments_lexer": "ipython2",
   "version": "2.7.6"
  }
 },
 "nbformat": 4,
 "nbformat_minor": 5
}

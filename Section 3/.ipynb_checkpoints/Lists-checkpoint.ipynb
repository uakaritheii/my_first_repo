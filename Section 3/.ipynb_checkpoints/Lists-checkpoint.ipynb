{
 "cells": [
  {
   "cell_type": "code",
   "id": "initial_id",
   "metadata": {
    "collapsed": true,
    "ExecuteTime": {
     "end_time": "2025-05-08T13:00:48.428626Z",
     "start_time": "2025-05-08T13:00:48.426333Z"
    }
   },
   "source": "a = 4",
   "outputs": [],
   "execution_count": 1
  },
  {
   "metadata": {
    "ExecuteTime": {
     "end_time": "2025-05-08T13:01:45.462175Z",
     "start_time": "2025-05-08T13:01:45.459884Z"
    }
   },
   "cell_type": "code",
   "source": [
    "b = 3\n",
    "#restarting kernel restarts runtime and ereases all data in memory\n",
    "%whos"
   ],
   "id": "ccb364457b50ccb3",
   "outputs": [
    {
     "name": "stdout",
     "output_type": "stream",
     "text": [
      "Variable                        Type        Data/Info\n",
      "-----------------------------------------------------\n",
      "b                               int         3\n",
      "pydev_jupyter_vars              module      <module 'pydev_jupyter_va<...>\\\\pydev_jupyter_vars.py'>\n",
      "remove_imported_pydev_package   function    <function remove_imported<...>ge at 0x000001EC5616E0C0>\n",
      "sys                             module      <module 'sys' (built-in)>\n"
     ]
    }
   ],
   "execution_count": 6
  },
  {
   "metadata": {
    "ExecuteTime": {
     "end_time": "2025-05-08T18:34:43.152265Z",
     "start_time": "2025-05-08T18:34:43.149663Z"
    }
   },
   "cell_type": "code",
   "source": [
    "aList = [0,1,2,3,4,5]\n",
    "strList = ['a', 'b', 'c', 'd', 'e', 'f']\n",
    "mixedList = ['a', 1, 'b', 2, 'c', 3, 'd']\n",
    "listList = [aList,\n",
    "            strList,\n",
    "            mixedList]\n",
    "print(listList)\n",
    "%whos"
   ],
   "id": "849969f905b6a0e4",
   "outputs": [
    {
     "name": "stdout",
     "output_type": "stream",
     "text": [
      "[[0, 1, 2, 3, 4, 5], ['a', 'b', 'c', 'd', 'e', 'f'], ['a', 1, 'b', 2, 'c', 3, 'd']]\n",
      "Variable                        Type        Data/Info\n",
      "-----------------------------------------------------\n",
      "aList                           list        n=6\n",
      "b                               int         3\n",
      "listList                        list        n=3\n",
      "mixedList                       list        n=7\n",
      "pydev_jupyter_vars              module      <module 'pydev_jupyter_va<...>\\\\pydev_jupyter_vars.py'>\n",
      "remove_imported_pydev_package   function    <function remove_imported<...>ge at 0x000001EC5616E0C0>\n",
      "strList                         list        n=6\n",
      "sys                             module      <module 'sys' (built-in)>\n"
     ]
    }
   ],
   "execution_count": 45
  },
  {
   "metadata": {
    "ExecuteTime": {
     "end_time": "2025-05-08T18:30:00.262357Z",
     "start_time": "2025-05-08T18:30:00.259592Z"
    }
   },
   "cell_type": "code",
   "source": [
    "4 in aList #we can use the in keyword to check whether an element is in a list\n",
    "'e' not in strList"
   ],
   "id": "f6ce468bc5f0f9f3",
   "outputs": [
    {
     "data": {
      "text/plain": [
       "False"
      ]
     },
     "execution_count": 23,
     "metadata": {},
     "output_type": "execute_result"
    }
   ],
   "execution_count": 23
  },
  {
   "metadata": {
    "ExecuteTime": {
     "end_time": "2025-05-08T18:32:03.092964Z",
     "start_time": "2025-05-08T18:32:03.090890Z"
    }
   },
   "cell_type": "code",
   "source": [
    "#using operators on list\n",
    "print(aList)\n",
    "print(strList)\n",
    "print(aList + strList) # using + concatenates two lists together\n",
    "print(aList*2) # causes elements in a list to repeat"
   ],
   "id": "40b5f330f209c86",
   "outputs": [
    {
     "name": "stdout",
     "output_type": "stream",
     "text": [
      "[0, 1, 2, 3, 4, 5]\n",
      "['a', 'b', 'c', 'd', 'e', 'f']\n",
      "[0, 1, 2, 3, 4, 5, 'a', 'b', 'c', 'd', 'e', 'f']\n",
      "[0, 1, 2, 3, 4, 5, 0, 1, 2, 3, 4, 5]\n"
     ]
    }
   ],
   "execution_count": 31
  },
  {
   "metadata": {
    "ExecuteTime": {
     "end_time": "2025-05-08T18:34:45.643460Z",
     "start_time": "2025-05-08T18:34:45.640764Z"
    }
   },
   "cell_type": "code",
   "source": [
    "#list methods\n",
    "\n",
    "print(aList)\n",
    "aList.append(-100)\n",
    "print(aList) #appends adds elements to the last value inside a list\n",
    "aList.sort() #sort permanently sorts a list\n",
    "print(aList)"
   ],
   "id": "bf95abe7a0693158",
   "outputs": [
    {
     "name": "stdout",
     "output_type": "stream",
     "text": [
      "[0, 1, 2, 3, 4, 5]\n",
      "[0, 1, 2, 3, 4, 5, -100]\n",
      "[-100, 0, 1, 2, 3, 4, 5]\n"
     ]
    }
   ],
   "execution_count": 46
  },
  {
   "metadata": {
    "ExecuteTime": {
     "end_time": "2025-05-08T18:37:04.709802Z",
     "start_time": "2025-05-08T18:37:04.707138Z"
    }
   },
   "cell_type": "code",
   "source": [
    "#Exercise\n",
    "\n",
    "newList = [3,4,7,77,777,7,7,7,77,4,4,3,4,7,77,8,78,7]\n",
    "\n",
    "#count the number of '7's in the list using a list method\n",
    "\n",
    "newList.count(7)"
   ],
   "id": "f927edc3bb4216f0",
   "outputs": [
    {
     "data": {
      "text/plain": [
       "6"
      ]
     },
     "execution_count": 47,
     "metadata": {},
     "output_type": "execute_result"
    }
   ],
   "execution_count": 47
  }
 ],
 "metadata": {
  "kernelspec": {
   "display_name": "Python 3",
   "language": "python",
   "name": "python3"
  },
  "language_info": {
   "codemirror_mode": {
    "name": "ipython",
    "version": 2
   },
   "file_extension": ".py",
   "mimetype": "text/x-python",
   "name": "python",
   "nbconvert_exporter": "python",
   "pygments_lexer": "ipython2",
   "version": "2.7.6"
  }
 },
 "nbformat": 4,
 "nbformat_minor": 5
}

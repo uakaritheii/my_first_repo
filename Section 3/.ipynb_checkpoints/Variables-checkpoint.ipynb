{
 "cells": [
  {
   "cell_type": "code",
   "id": "initial_id",
   "metadata": {
    "collapsed": true,
    "ExecuteTime": {
     "end_time": "2025-05-08T12:38:18.325278Z",
     "start_time": "2025-05-08T12:38:18.322908Z"
    }
   },
   "source": [
    "a = 4 # equal is used to assign data to variables\n",
    "b = 3\n",
    "print(a,b)"
   ],
   "outputs": [
    {
     "name": "stdout",
     "output_type": "stream",
     "text": [
      "4 3\n"
     ]
    }
   ],
   "execution_count": 6
  },
  {
   "metadata": {
    "ExecuteTime": {
     "end_time": "2025-05-08T12:38:18.343544Z",
     "start_time": "2025-05-08T12:38:18.341075Z"
    }
   },
   "cell_type": "code",
   "source": [
    "#python has various data types\n",
    "c = 3 # this is a numeric data type\n",
    "filter_name = \"Pfilt\"\n",
    "d = 3.33\n",
    "status = True\n",
    "print(type(True))\n",
    "print(type(filter_name))\n",
    "print(type(d))\n",
    "print(type(c))"
   ],
   "id": "a6f50ec3c8b3f58a",
   "outputs": [
    {
     "name": "stdout",
     "output_type": "stream",
     "text": [
      "<class 'bool'>\n",
      "<class 'str'>\n",
      "<class 'float'>\n",
      "<class 'int'>\n"
     ]
    }
   ],
   "execution_count": 7
  },
  {
   "metadata": {
    "ExecuteTime": {
     "end_time": "2025-05-08T12:38:18.374136Z",
     "start_time": "2025-05-08T12:38:18.371610Z"
    }
   },
   "cell_type": "code",
   "source": [
    "#multiple assignments\n",
    "f,g = 10,20\n",
    "print(f,g) #mutliple assignment can also be used\n",
    "a = 4.44 # existing variables cna be overwritten"
   ],
   "id": "12c74838aab9bd1c",
   "outputs": [
    {
     "name": "stdout",
     "output_type": "stream",
     "text": [
      "10 20\n"
     ]
    }
   ],
   "execution_count": 8
  },
  {
   "metadata": {
    "ExecuteTime": {
     "end_time": "2025-05-08T12:38:18.392412Z",
     "start_time": "2025-05-08T12:38:18.390286Z"
    }
   },
   "cell_type": "code",
   "source": [
    "# to keep track of all the variables in the workspace\n",
    "%whos"
   ],
   "id": "757f08176f96487a",
   "outputs": [
    {
     "name": "stdout",
     "output_type": "stream",
     "text": [
      "Variable                        Type        Data/Info\n",
      "-----------------------------------------------------\n",
      "a                               float       4.44\n",
      "b                               int         3\n",
      "c                               int         3\n",
      "d                               float       3.33\n",
      "f                               int         10\n",
      "filter_name                     str         Pfilt\n",
      "g                               int         20\n",
      "pydev_jupyter_vars              module      <module 'pydev_jupyter_va<...>\\\\pydev_jupyter_vars.py'>\n",
      "remove_imported_pydev_package   function    <function remove_imported<...>ge at 0x0000024D8994AD40>\n",
      "status                          bool        True\n",
      "sys                             module      <module 'sys' (built-in)>\n"
     ]
    }
   ],
   "execution_count": 9
  },
  {
   "metadata": {
    "ExecuteTime": {
     "end_time": "2025-05-08T12:38:18.409876Z",
     "start_time": "2025-05-08T12:38:18.408367Z"
    }
   },
   "cell_type": "code",
   "source": [
    "\n",
    "\n"
   ],
   "id": "e3600d52adcd65ba",
   "outputs": [],
   "execution_count": 10
  }
 ],
 "metadata": {
  "kernelspec": {
   "display_name": "Python 3",
   "language": "python",
   "name": "python3"
  },
  "language_info": {
   "codemirror_mode": {
    "name": "ipython",
    "version": 2
   },
   "file_extension": ".py",
   "mimetype": "text/x-python",
   "name": "python",
   "nbconvert_exporter": "python",
   "pygments_lexer": "ipython2",
   "version": "2.7.6"
  }
 },
 "nbformat": 4,
 "nbformat_minor": 5
}

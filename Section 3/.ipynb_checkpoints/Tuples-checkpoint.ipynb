{
 "cells": [
  {
   "cell_type": "code",
   "id": "initial_id",
   "metadata": {
    "collapsed": true,
    "ExecuteTime": {
     "end_time": "2025-05-08T18:38:18.320661Z",
     "start_time": "2025-05-08T18:38:18.318582Z"
    }
   },
   "source": [
    "#A tuple is a similar data type to a list\n",
    "\n",
    "atuple = (3, '4', 3)\n",
    "%whos"
   ],
   "outputs": [
    {
     "name": "stdout",
     "output_type": "stream",
     "text": [
      "Variable                        Type        Data/Info\n",
      "-----------------------------------------------------\n",
      "atuple                          tuple       n=3\n",
      "pydev_jupyter_vars              module      <module 'pydev_jupyter_va<...>\\\\pydev_jupyter_vars.py'>\n",
      "remove_imported_pydev_package   function    <function remove_imported<...>ge at 0x00000238E4DEAE80>\n",
      "sys                             module      <module 'sys' (built-in)>\n"
     ]
    }
   ],
   "execution_count": 2
  },
  {
   "metadata": {
    "ExecuteTime": {
     "end_time": "2025-05-08T18:39:29.213745Z",
     "start_time": "2025-05-08T18:39:29.211292Z"
    }
   },
   "cell_type": "code",
   "source": [
    "# tuples behave like lists in some regards\n",
    "# The major difference between the two is that tuples are immutable\n",
    "# Tuples are useful when storing data that you don't want modified\n",
    "\n",
    "print(atuple*3)\n",
    "atuple.count('4')"
   ],
   "id": "c29177ffa7fa39c2",
   "outputs": [
    {
     "name": "stdout",
     "output_type": "stream",
     "text": [
      "(3, '4', 3, 3, '4', 3, 3, '4', 3)\n"
     ]
    },
    {
     "data": {
      "text/plain": [
       "1"
      ]
     },
     "execution_count": 5,
     "metadata": {},
     "output_type": "execute_result"
    }
   ],
   "execution_count": 5
  },
  {
   "metadata": {
    "ExecuteTime": {
     "end_time": "2025-05-08T18:42:38.484745Z",
     "start_time": "2025-05-08T18:42:38.482585Z"
    }
   },
   "cell_type": "code",
   "source": [
    "# Now let us change an element in the list and try the same for a tuple\n",
    "\n",
    "alist = [1,2,3]\n",
    "alist[0] = 3\n",
    "print(alist)\n",
    "\n",
    "try:\n",
    "    atuple[0] = 3\n",
    "except TypeError:\n",
    "    print('TypeError') #from our error result we can see we can't change the elements inside"
   ],
   "id": "56a2d8931b199c83",
   "outputs": [
    {
     "name": "stdout",
     "output_type": "stream",
     "text": [
      "[3, 2, 3]\n",
      "TypeError\n"
     ]
    }
   ],
   "execution_count": 9
  },
  {
   "metadata": {
    "ExecuteTime": {
     "end_time": "2025-05-08T18:43:15.658983Z",
     "start_time": "2025-05-08T18:43:15.657022Z"
    }
   },
   "cell_type": "code",
   "source": [
    "# We can however change a tuple to alist\n",
    "v = list(atuple)\n",
    "print(type(atuple))\n",
    "print(type(v))"
   ],
   "id": "78d1d55435181b36",
   "outputs": [
    {
     "name": "stdout",
     "output_type": "stream",
     "text": [
      "<class 'tuple'>\n",
      "<class 'list'>\n"
     ]
    }
   ],
   "execution_count": 12
  },
  {
   "metadata": {},
   "cell_type": "code",
   "outputs": [],
   "execution_count": null,
   "source": "",
   "id": "2ae1d0a1d72f2ea0"
  }
 ],
 "metadata": {
  "kernelspec": {
   "display_name": "Python 3",
   "language": "python",
   "name": "python3"
  },
  "language_info": {
   "codemirror_mode": {
    "name": "ipython",
    "version": 2
   },
   "file_extension": ".py",
   "mimetype": "text/x-python",
   "name": "python",
   "nbconvert_exporter": "python",
   "pygments_lexer": "ipython2",
   "version": "2.7.6"
  }
 },
 "nbformat": 4,
 "nbformat_minor": 5
}

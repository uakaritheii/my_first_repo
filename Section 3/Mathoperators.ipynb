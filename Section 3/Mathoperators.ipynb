{
 "cells": [
  {
   "cell_type": "code",
   "execution_count": 9,
   "id": "initial_id",
   "metadata": {
    "ExecuteTime": {
     "end_time": "2025-05-08T12:39:53.393376Z",
     "start_time": "2025-05-08T12:39:53.390906Z"
    }
   },
   "outputs": [
    {
     "name": "stdout",
     "output_type": "stream",
     "text": [
      "Variable   Type     Data/Info\n",
      "-----------------------------\n",
      "text       str      I am Helen\n",
      "ttext      str      \n",
      "x          int      7\n",
      "y          float    4.1\n",
      "z          int      0\n"
     ]
    }
   ],
   "source": [
    "x = 7\n",
    "y = 4.1\n",
    "z = 0\n",
    "\n",
    "%whos"
   ]
  },
  {
   "cell_type": "code",
   "execution_count": 5,
   "id": "cd3003c565ea8fa9",
   "metadata": {
    "ExecuteTime": {
     "end_time": "2025-05-08T12:40:42.672989Z",
     "start_time": "2025-05-08T12:40:42.670191Z"
    }
   },
   "outputs": [
    {
     "name": "stdout",
     "output_type": "stream",
     "text": [
      "1\n",
      "9.1\n"
     ]
    }
   ],
   "source": [
    "print(x - 6)\n",
    "c = x + y - 2\n",
    "print(c)"
   ]
  },
  {
   "cell_type": "code",
   "execution_count": 13,
   "id": "22e398c7ace21995",
   "metadata": {
    "ExecuteTime": {
     "end_time": "2025-05-08T12:43:12.327909Z",
     "start_time": "2025-05-08T12:43:12.325627Z"
    }
   },
   "outputs": [
    {
     "name": "stdout",
     "output_type": "stream",
     "text": [
      "28.699999999999996\n",
      "14\n",
      "2.0\n",
      "9\n",
      "2.0\n"
     ]
    }
   ],
   "source": [
    "#floating point algebra\n",
    "print(x*y) #computers do not have arbitrary precision\n",
    "print(x*2)\n",
    "print(x/3.5)\n",
    "print(3**2) #powers\n",
    "print(4**(1/2)) #keep order of operatins in mind"
   ]
  },
  {
   "cell_type": "code",
   "execution_count": 13,
   "id": "f6ad9f9908721476",
   "metadata": {
    "ExecuteTime": {
     "end_time": "2025-05-08T12:42:36.803200Z",
     "start_time": "2025-05-08T12:42:36.800406Z"
    }
   },
   "outputs": [
    {
     "data": {
      "text/plain": [
       "7"
      ]
     },
     "execution_count": 13,
     "metadata": {},
     "output_type": "execute_result"
    }
   ],
   "source": [
    "# \\ can be used as a line break\n",
    "4\\\n",
    "    + 3"
   ]
  },
  {
   "cell_type": "code",
   "execution_count": 26,
   "id": "a923f2c71abb3dfb",
   "metadata": {
    "ExecuteTime": {
     "end_time": "2025-05-08T12:46:54.604918Z",
     "start_time": "2025-05-08T12:46:54.602660Z"
    }
   },
   "outputs": [
    {
     "name": "stdout",
     "output_type": "stream",
     "text": [
      "Mike Joshua\n",
      "MikeMikeMikeMike\n"
     ]
    }
   ],
   "source": [
    "# strings can be concactenated\n",
    "\n",
    "firstname = 'Mike'\n",
    "lastName = 'Joshua'\n",
    "print(firstname + ' ' + lastName)\n",
    "print(firstname*4) #we can repeat a string using asterisk\n"
   ]
  },
  {
   "cell_type": "code",
   "execution_count": 31,
   "id": "fdf49fff26ce5ce0",
   "metadata": {
    "ExecuteTime": {
     "end_time": "2025-05-08T12:50:21.251458Z",
     "start_time": "2025-05-08T12:50:21.248490Z"
    }
   },
   "outputs": [
    {
     "name": "stdout",
     "output_type": "stream",
     "text": [
      "3times5equals15\n",
      "3 + 5 = 8\n"
     ]
    }
   ],
   "source": [
    "x = 3\n",
    "y = 5\n",
    "\n",
    "print(str(x) + 'times' + str(y) + 'equals' + str(x*y))\n",
    "print(f\"{x} + {y} = {x+y}\")"
   ]
  },
  {
   "cell_type": "code",
   "execution_count": 14,
   "id": "4db698f904ce6041",
   "metadata": {
    "ExecuteTime": {
     "end_time": "2025-05-08T12:53:34.985691Z",
     "start_time": "2025-05-08T12:53:32.643946Z"
    }
   },
   "outputs": [
    {
     "name": "stdin",
     "output_type": "stream",
     "text": [
      "Feed me a stray cat  American Psycho\n"
     ]
    },
    {
     "name": "stdout",
     "output_type": "stream",
     "text": [
      "<class 'str'>\n"
     ]
    }
   ],
   "source": [
    "ans = input('Feed me a stray cat ')\n",
    "\n",
    "print(type(ans))"
   ]
  },
  {
   "cell_type": "code",
   "execution_count": 40,
   "id": "64d141408355e665",
   "metadata": {
    "ExecuteTime": {
     "end_time": "2025-05-08T12:57:03.712066Z",
     "start_time": "2025-05-08T12:57:00.884409Z"
    }
   },
   "outputs": [
    {
     "name": "stdout",
     "output_type": "stream",
     "text": [
      "5.0\n"
     ]
    }
   ],
   "source": [
    "a = int(input(\"Side 1 length: \"))\n",
    "b = int(input(\"Side 2 length: \"))\n",
    "c = (a**2 + b**2)**(1/2)\n",
    "print(c)"
   ]
  },
  {
   "cell_type": "code",
   "execution_count": null,
   "id": "ad5b88e865dcb529",
   "metadata": {},
   "outputs": [],
   "source": []
  }
 ],
 "metadata": {
  "kernelspec": {
   "display_name": "Python 3 (ipykernel)",
   "language": "python",
   "name": "python3"
  },
  "language_info": {
   "codemirror_mode": {
    "name": "ipython",
    "version": 3
   },
   "file_extension": ".py",
   "mimetype": "text/x-python",
   "name": "python",
   "nbconvert_exporter": "python",
   "pygments_lexer": "ipython3",
   "version": "3.13.3"
  }
 },
 "nbformat": 4,
 "nbformat_minor": 5
}

{
 "cells": [
  {
   "cell_type": "code",
   "execution_count": 31,
   "id": "initial_id",
   "metadata": {
    "ExecuteTime": {
     "end_time": "2025-05-08T12:38:18.325278Z",
     "start_time": "2025-05-08T12:38:18.322908Z"
    }
   },
   "outputs": [
    {
     "name": "stdout",
     "output_type": "stream",
     "text": [
      "4 3\n"
     ]
    }
   ],
   "source": [
    " # equal is used to assign data to variables\n",
    "a = 4\n",
    "b = 3\n",
    "print(a,b)"
   ]
  },
  {
   "cell_type": "code",
   "execution_count": 18,
   "id": "a6f50ec3c8b3f58a",
   "metadata": {
    "ExecuteTime": {
     "end_time": "2025-05-08T12:38:18.343544Z",
     "start_time": "2025-05-08T12:38:18.341075Z"
    }
   },
   "outputs": [
    {
     "name": "stdout",
     "output_type": "stream",
     "text": [
      "<class 'bool'>\n"
     ]
    }
   ],
   "source": [
    "#python has various data types\n",
    "c = 3 # this is a numeric data type\n",
    "filter_name = \"Pfilt\"\n",
    "d = 3.33\n",
    "status = True"
   ]
  },
  {
   "cell_type": "code",
   "execution_count": 33,
   "id": "12c74838aab9bd1c",
   "metadata": {
    "ExecuteTime": {
     "end_time": "2025-05-08T12:38:18.374136Z",
     "start_time": "2025-05-08T12:38:18.371610Z"
    }
   },
   "outputs": [
    {
     "name": "stdout",
     "output_type": "stream",
     "text": [
      "4.44\n",
      "10 20\n",
      "4.44\n"
     ]
    }
   ],
   "source": [
    "#multiple assignments\n",
    "f,g = 10,20\n",
    "print(a)\n",
    "print(f,g) #mutliple assignment can also be used\n",
    "a = 4.44 # existing variables cna be overwritten\n",
    "print(a)"
   ]
  },
  {
   "cell_type": "code",
   "execution_count": 9,
   "id": "757f08176f96487a",
   "metadata": {
    "ExecuteTime": {
     "end_time": "2025-05-08T12:38:18.392412Z",
     "start_time": "2025-05-08T12:38:18.390286Z"
    }
   },
   "outputs": [
    {
     "name": "stdout",
     "output_type": "stream",
     "text": [
      "Variable                        Type        Data/Info\n",
      "-----------------------------------------------------\n",
      "a                               float       4.44\n",
      "b                               int         3\n",
      "c                               int         3\n",
      "d                               float       3.33\n",
      "f                               int         10\n",
      "filter_name                     str         Pfilt\n",
      "g                               int         20\n",
      "pydev_jupyter_vars              module      <module 'pydev_jupyter_va<...>\\\\pydev_jupyter_vars.py'>\n",
      "remove_imported_pydev_package   function    <function remove_imported<...>ge at 0x0000024D8994AD40>\n",
      "status                          bool        True\n",
      "sys                             module      <module 'sys' (built-in)>\n"
     ]
    }
   ],
   "source": [
    "# to keep track of all the variables in the workspace\n",
    "%whos"
   ]
  },
  {
   "cell_type": "code",
   "execution_count": 10,
   "id": "e3600d52adcd65ba",
   "metadata": {
    "ExecuteTime": {
     "end_time": "2025-05-08T12:38:18.409876Z",
     "start_time": "2025-05-08T12:38:18.408367Z"
    }
   },
   "outputs": [],
   "source": [
    "\n",
    "\n"
   ]
  }
 ],
 "metadata": {
  "kernelspec": {
   "display_name": "Python 3 (ipykernel)",
   "language": "python",
   "name": "python3"
  },
  "language_info": {
   "codemirror_mode": {
    "name": "ipython",
    "version": 3
   },
   "file_extension": ".py",
   "mimetype": "text/x-python",
   "name": "python",
   "nbconvert_exporter": "python",
   "pygments_lexer": "ipython3",
   "version": "3.13.3"
  }
 },
 "nbformat": 4,
 "nbformat_minor": 5
}

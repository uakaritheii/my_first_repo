{
 "cells": [
  {
   "cell_type": "code",
   "execution_count": 1,
   "id": "initial_id",
   "metadata": {
    "ExecuteTime": {
     "end_time": "2025-05-08T18:46:03.381483Z",
     "start_time": "2025-05-08T18:46:03.379023Z"
    }
   },
   "outputs": [
    {
     "name": "stdout",
     "output_type": "stream",
     "text": [
      "Variable    Type    Data/Info\n",
      "-----------------------------\n",
      "boolFalse   str     False\n",
      "boolTrue    bool    True\n"
     ]
    }
   ],
   "source": [
    "# Boolean is a data type also known as a logical\n",
    "# Booleans are binary. Either true or false\n",
    "\n",
    "boolTrue = True\n",
    "boolFalse = 'False'\n",
    "%whos"
   ]
  },
  {
   "cell_type": "code",
   "execution_count": 2,
   "id": "82f606131496ca39",
   "metadata": {
    "ExecuteTime": {
     "end_time": "2025-05-08T18:47:58.322068Z",
     "start_time": "2025-05-08T18:47:58.319691Z"
    }
   },
   "outputs": [
    {
     "name": "stdout",
     "output_type": "stream",
     "text": [
      "False\n",
      "True\n",
      "False\n",
      "True\n",
      "True\n",
      "True\n"
     ]
    }
   ],
   "source": [
    "# the double equal sign is used to check equality\n",
    "\n",
    "print(boolTrue == boolFalse)\n",
    "print(4 == 4)\n",
    "print(4 > 5)\n",
    "print(4 < 5)\n",
    "print(4 != 5) #checks if two things are unequal\n",
    "print(4 <= 5)"
   ]
  },
  {
   "cell_type": "code",
   "execution_count": 14,
   "id": "d51a91c69430f3cb",
   "metadata": {
    "ExecuteTime": {
     "end_time": "2025-05-08T18:48:40.250277Z",
     "start_time": "2025-05-08T18:48:40.247980Z"
    }
   },
   "outputs": [
    {
     "name": "stdout",
     "output_type": "stream",
     "text": [
      "True\n"
     ]
    }
   ],
   "source": [
    "a = 8\n",
    "b = 4\n",
    "outcome = a == b*2\n",
    "print(outcome) # a is indeed 2b"
   ]
  },
  {
   "cell_type": "code",
   "execution_count": 21,
   "id": "8385ed47c93c1d74",
   "metadata": {
    "ExecuteTime": {
     "end_time": "2025-05-08T18:49:43.014842Z",
     "start_time": "2025-05-08T18:49:43.012990Z"
    }
   },
   "outputs": [
    {
     "name": "stdout",
     "output_type": "stream",
     "text": [
      "True\n",
      "True\n",
      "True\n"
     ]
    }
   ],
   "source": [
    "#conjuctive comparisons\n",
    "\n",
    "print(14>5 and 5<10)\n",
    "print(7>10 or 5<10)\n",
    "print(5<10)"
   ]
  },
  {
   "cell_type": "code",
   "execution_count": 28,
   "id": "93db7db62040d676",
   "metadata": {
    "ExecuteTime": {
     "end_time": "2025-05-08T18:51:26.760954Z",
     "start_time": "2025-05-08T18:51:26.758905Z"
    }
   },
   "outputs": [
    {
     "name": "stdout",
     "output_type": "stream",
     "text": [
      "False\n",
      "False\n",
      "True\n",
      "True\n"
     ]
    }
   ],
   "source": [
    "#any non zero number or non-empty string will return a true\n",
    "print(bool(0))\n",
    "print(bool(''))\n",
    "print(bool(-8))\n",
    "print(bool('nonemptystring'))"
   ]
  },
  {
   "cell_type": "code",
   "execution_count": 31,
   "id": "52de94b022b8fb88",
   "metadata": {
    "ExecuteTime": {
     "end_time": "2025-05-08T18:54:19.789862Z",
     "start_time": "2025-05-08T18:54:13.703715Z"
    }
   },
   "outputs": [
    {
     "name": "stdout",
     "output_type": "stream",
     "text": [
      "Sides a,b, and c are False triplets\n"
     ]
    }
   ],
   "source": [
    "#Exercise\n",
    "#Ask the user for three numbers and test if they are pythagorean triplets\n",
    "\n",
    "a = int(input(\"Please enter side length of a: \"))\n",
    "b = int(input(\"Please enter side length of b: \"))\n",
    "c = int(input(\"Please enter side length of c: \"))\n",
    "\n",
    "istriplet = a**2 + b**2 == c**2\n",
    "print(f\"Sides a,b, and c are {istriplet} triplets\")"
   ]
  }
 ],
 "metadata": {
  "kernelspec": {
   "display_name": "Python 3 (ipykernel)",
   "language": "python",
   "name": "python3"
  },
  "language_info": {
   "codemirror_mode": {
    "name": "ipython",
    "version": 3
   },
   "file_extension": ".py",
   "mimetype": "text/x-python",
   "name": "python",
   "nbconvert_exporter": "python",
   "pygments_lexer": "ipython3",
   "version": "3.13.3"
  }
 },
 "nbformat": 4,
 "nbformat_minor": 5
}

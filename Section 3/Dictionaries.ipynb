{
 "cells": [
  {
   "cell_type": "code",
   "execution_count": 3,
   "id": "initial_id",
   "metadata": {
    "ExecuteTime": {
     "end_time": "2025-05-08T19:35:19.268442Z",
     "start_time": "2025-05-08T19:35:19.266052Z"
    }
   },
   "outputs": [
    {
     "data": {
      "text/plain": [
       "{}"
      ]
     },
     "execution_count": 3,
     "metadata": {},
     "output_type": "execute_result"
    }
   ],
   "source": [
    "# Dictionary\n",
    "\n",
    "D = dict()\n",
    "D # a dictionary is represented by culry brackets"
   ]
  },
  {
   "cell_type": "code",
   "execution_count": 4,
   "id": "8098f0b0b54ebb19",
   "metadata": {
    "ExecuteTime": {
     "end_time": "2025-05-08T19:35:21.178794Z",
     "start_time": "2025-05-08T19:35:21.176179Z"
    }
   },
   "outputs": [
    {
     "data": {
      "text/plain": [
       "{'name': 'Reuben', 'age range': [15, 30]}"
      ]
     },
     "execution_count": 4,
     "metadata": {},
     "output_type": "execute_result"
    }
   ],
   "source": [
    "#Dictionaries are populated with key value pairs\n",
    "\n",
    "D['name'] = 'Reuben' #key is name and Reuben is the value\n",
    "D['age range'] = [15,30]\n",
    "D"
   ]
  },
  {
   "cell_type": "code",
   "execution_count": 7,
   "id": "8554f86c8dd7be23",
   "metadata": {
    "ExecuteTime": {
     "end_time": "2025-05-08T19:36:01.171252Z",
     "start_time": "2025-05-08T19:36:01.168984Z"
    }
   },
   "outputs": [
    {
     "name": "stdout",
     "output_type": "stream",
     "text": [
      "True\n"
     ]
    }
   ],
   "source": [
    "#another way to create dictionaries is to pre-fill key-value pairs\n",
    "\n",
    "E = {'name': 'Reuben', 'age range': [15, 30]}\n",
    "print(E==D)"
   ]
  },
  {
   "cell_type": "code",
   "execution_count": 10,
   "id": "ba83a51b17c7b69a",
   "metadata": {
    "ExecuteTime": {
     "end_time": "2025-05-08T19:45:53.653009Z",
     "start_time": "2025-05-08T19:45:53.650480Z"
    }
   },
   "outputs": [
    {
     "name": "stdout",
     "output_type": "stream",
     "text": [
      "Reuben\n",
      "[15, 30]\n",
      "True\n",
      "False\n",
      "False\n",
      "dict_keys(['name', 'age range'])\n"
     ]
    }
   ],
   "source": [
    "#calling information from dictionaries\n",
    "\n",
    "print(D['name']) #retrieves the value inside the key\n",
    "print(D['age range'])\n",
    "print('age range' in D) #keys in dictionaries are case sensitive\n",
    "print('Name' in D) # by default, this searches the keys\n",
    "print('Reuben' in D['name'])\n",
    "print(D.keys())"
   ]
  },
  {
   "cell_type": "code",
   "execution_count": 39,
   "id": "e0682b81ffba829a",
   "metadata": {
    "ExecuteTime": {
     "end_time": "2025-05-08T19:48:41.384131Z",
     "start_time": "2025-05-08T19:48:41.381241Z"
    }
   },
   "outputs": [
    {
     "name": "stdout",
     "output_type": "stream",
     "text": [
      "dict_values(['Reuben', [15, 30]])\n",
      "False\n",
      "True\n",
      "dict_items([('name', 'Reuben'), ('age range', [15, 30])])\n",
      "True\n",
      "15\n"
     ]
    }
   ],
   "source": [
    "# calling values\n",
    "\n",
    "print(D.values()) # only outputs the values\n",
    "print('Reuben' in D)\n",
    "print('Reuben' in D.values())\n",
    "print(D.items()) #separates key value pairs from each other\n",
    "print(('name', 'Reuben') in D.items())\n",
    "print(D['age range'][0])"
   ]
  },
  {
   "cell_type": "code",
   "execution_count": 43,
   "id": "9d9b86a77c0e272",
   "metadata": {
    "ExecuteTime": {
     "end_time": "2025-05-08T19:53:51.127973Z",
     "start_time": "2025-05-08T19:53:48.964723Z"
    }
   },
   "outputs": [
    {
     "name": "stdout",
     "output_type": "stream",
     "text": [
      "{'num1': 3.0, 'num2': 4.0, 'product': 12.0}\n"
     ]
    }
   ],
   "source": [
    "del D #removes variable D from the workspace\n",
    "\n",
    "#Exercise\n",
    "\n",
    "#Input two numbers from the user\n",
    "#Create a dictionary containing the following 'firstNum', 'secNum', 'product'\n",
    "\n",
    "num1 = float(input('Enter the first number:'))\n",
    "num2 = float(input('Enter the second number:'))\n",
    "product = num1 * num2\n",
    "C = dict()\n",
    "C['num1'] = num1\n",
    "C['num2'] = num2\n",
    "C['product'] = product\n",
    "print(C)"
   ]
  }
 ],
 "metadata": {
  "kernelspec": {
   "display_name": "Python 3 (ipykernel)",
   "language": "python",
   "name": "python3"
  },
  "language_info": {
   "codemirror_mode": {
    "name": "ipython",
    "version": 3
   },
   "file_extension": ".py",
   "mimetype": "text/x-python",
   "name": "python",
   "nbconvert_exporter": "python",
   "pygments_lexer": "ipython3",
   "version": "3.13.3"
  }
 },
 "nbformat": 4,
 "nbformat_minor": 5
}

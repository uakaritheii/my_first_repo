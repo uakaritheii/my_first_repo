{
 "cells": [
  {
   "cell_type": "code",
   "execution_count": 1,
   "id": "initial_id",
   "metadata": {
    "ExecuteTime": {
     "end_time": "2025-05-08T13:00:48.428626Z",
     "start_time": "2025-05-08T13:00:48.426333Z"
    }
   },
   "outputs": [],
   "source": [
    "a = 4"
   ]
  },
  {
   "cell_type": "code",
   "execution_count": 1,
   "id": "ccb364457b50ccb3",
   "metadata": {
    "ExecuteTime": {
     "end_time": "2025-05-08T13:01:45.462175Z",
     "start_time": "2025-05-08T13:01:45.459884Z"
    }
   },
   "outputs": [
    {
     "name": "stdout",
     "output_type": "stream",
     "text": [
      "Variable   Type    Data/Info\n",
      "----------------------------\n",
      "b          int     3\n"
     ]
    }
   ],
   "source": [
    "b = 3\n",
    "#restarting kernel restarts runtime and ereases all data in memory\n",
    "%whos"
   ]
  },
  {
   "cell_type": "code",
   "execution_count": 2,
   "id": "849969f905b6a0e4",
   "metadata": {
    "ExecuteTime": {
     "end_time": "2025-05-08T18:34:43.152265Z",
     "start_time": "2025-05-08T18:34:43.149663Z"
    }
   },
   "outputs": [
    {
     "name": "stdout",
     "output_type": "stream",
     "text": [
      "[[0, 1, 2, 3, 4, 5], ['a', 'b', 'c', 'd', 'e', 'f'], ['a', 1, 'b', 2, 'c', 3, 'd']]\n",
      "Variable    Type    Data/Info\n",
      "-----------------------------\n",
      "aList       list    n=6\n",
      "b           int     3\n",
      "listList    list    n=3\n",
      "mixedList   list    n=7\n",
      "strList     list    n=6\n"
     ]
    }
   ],
   "source": [
    "aList = [0,1,2,3,4,5]\n",
    "strList = ['a', 'b', 'c', 'd', 'e', 'f']\n",
    "mixedList = ['a', 1, 'b', 2, 'c', 3, 'd']\n",
    "listList = [aList,\n",
    "            strList,\n",
    "            mixedList]\n",
    "print(listList)\n",
    "%whos"
   ]
  },
  {
   "cell_type": "code",
   "execution_count": 4,
   "id": "f6ce468bc5f0f9f3",
   "metadata": {
    "ExecuteTime": {
     "end_time": "2025-05-08T18:30:00.262357Z",
     "start_time": "2025-05-08T18:30:00.259592Z"
    }
   },
   "outputs": [
    {
     "data": {
      "text/plain": [
       "False"
      ]
     },
     "execution_count": 4,
     "metadata": {},
     "output_type": "execute_result"
    }
   ],
   "source": [
    "4 in aList #we can use the in keyword to check whether an element is in a list\n",
    "'e' not in strList"
   ]
  },
  {
   "cell_type": "code",
   "execution_count": 11,
   "id": "40b5f330f209c86",
   "metadata": {
    "ExecuteTime": {
     "end_time": "2025-05-08T18:32:03.092964Z",
     "start_time": "2025-05-08T18:32:03.090890Z"
    }
   },
   "outputs": [
    {
     "name": "stdout",
     "output_type": "stream",
     "text": [
      "[0, 1, 2, 3, 4, 5]\n",
      "['a', 'b', 'c', 'd', 'e', 'f']\n",
      "[0, 1, 2, 3, 4, 5, 'a', 'b', 'c', 'd', 'e', 'f']\n",
      "[0, 1, 2, 3, 4, 5, 0, 1, 2, 3, 4, 5]\n"
     ]
    }
   ],
   "source": [
    "#using operators on list\n",
    "\n",
    "print(aList)\n",
    "print(strList)\n",
    "print(aList + strList) # using + concatenates two lists together\n",
    "print(aList*2) # causes elements in a list to repeat"
   ]
  },
  {
   "cell_type": "code",
   "execution_count": 18,
   "id": "bf95abe7a0693158",
   "metadata": {
    "ExecuteTime": {
     "end_time": "2025-05-08T18:34:45.643460Z",
     "start_time": "2025-05-08T18:34:45.640764Z"
    }
   },
   "outputs": [
    {
     "name": "stdout",
     "output_type": "stream",
     "text": [
      "[0, 1, 2, 3, 4, 5]\n",
      "[0, 1, 2, 3, 4, 5, -100]\n",
      "[-100, 0, 1, 2, 3, 4, 5]\n",
      "[0, 1, 2, 3, 4, 5, -100]\n"
     ]
    }
   ],
   "source": [
    "#list methods\n",
    "aList = [0,1,2,3,4,5]\n",
    "print(aList)\n",
    "aList.append(-100)\n",
    "print(aList) #appends adds elements to the last value inside a list\n",
    "print(sorted(aList)) #sort permanently sorts a list\n",
    "print(aList)"
   ]
  },
  {
   "cell_type": "code",
   "execution_count": 20,
   "id": "f927edc3bb4216f0",
   "metadata": {
    "ExecuteTime": {
     "end_time": "2025-05-08T18:37:04.709802Z",
     "start_time": "2025-05-08T18:37:04.707138Z"
    }
   },
   "outputs": [
    {
     "ename": "SyntaxError",
     "evalue": "invalid decimal literal (2171283068.py, line 7)",
     "output_type": "error",
     "traceback": [
      "  \u001b[36mCell\u001b[39m\u001b[36m \u001b[39m\u001b[32mIn[20]\u001b[39m\u001b[32m, line 7\u001b[39m\n\u001b[31m    \u001b[39m\u001b[31m777.count(7)\u001b[39m\n       ^\n\u001b[31mSyntaxError\u001b[39m\u001b[31m:\u001b[39m invalid decimal literal\n"
     ]
    }
   ],
   "source": [
    "#Exercise\n",
    "\n",
    "newList = [3,4,7,77,777,7,7,7,77,4,4,3,4,7,77,8,78,7]\n",
    "\n",
    "#count the number of '7's in the list using a list method\n",
    "\n"
   ]
  }
 ],
 "metadata": {
  "kernelspec": {
   "display_name": "Python 3 (ipykernel)",
   "language": "python",
   "name": "python3"
  },
  "language_info": {
   "codemirror_mode": {
    "name": "ipython",
    "version": 3
   },
   "file_extension": ".py",
   "mimetype": "text/x-python",
   "name": "python",
   "nbconvert_exporter": "python",
   "pygments_lexer": "ipython3",
   "version": "3.13.3"
  }
 },
 "nbformat": 4,
 "nbformat_minor": 5
}

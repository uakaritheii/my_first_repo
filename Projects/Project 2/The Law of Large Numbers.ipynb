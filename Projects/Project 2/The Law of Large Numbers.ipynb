{
 "cells": [
  {
   "cell_type": "markdown",
   "id": "4255965f-ba0c-4c26-9eab-e19b4e813e41",
   "metadata": {},
   "source": [
    "$$\\text{The law of large numbers}$$<br>\n",
    "\n",
    "$$\\text{As the number of experiment repetitions increases, the average of many 'sample means' better approximates the population mean (or true mean).}$$\n",
    "\n",
    "\n",
    "$$\n",
    "\\lim_{n\\to\\infty}P(|x_n - \\mu| > \\epsilon) = 0\n",
    "$$"
   ]
  },
  {
   "cell_type": "code",
   "execution_count": 1,
   "id": "dff1f027-8aa0-44a0-853b-e024140746fe",
   "metadata": {},
   "outputs": [],
   "source": [
    "# The law of large numbers tells us one sample is sensitive to sampling variability, noise and other source of variation\n",
    "# This means that one sample or experiment is unlikeley to provide a good estimate of the true population mean"
   ]
  },
  {
   "cell_type": "code",
   "execution_count": null,
   "id": "1234bbdd-17b6-46b8-8788-6f3c3d7aeee4",
   "metadata": {},
   "outputs": [],
   "source": []
  }
 ],
 "metadata": {
  "kernelspec": {
   "display_name": "Python 3 (ipykernel)",
   "language": "python",
   "name": "python3"
  },
  "language_info": {
   "codemirror_mode": {
    "name": "ipython",
    "version": 3
   },
   "file_extension": ".py",
   "mimetype": "text/x-python",
   "name": "python",
   "nbconvert_exporter": "python",
   "pygments_lexer": "ipython3",
   "version": "3.13.3"
  }
 },
 "nbformat": 4,
 "nbformat_minor": 5
}

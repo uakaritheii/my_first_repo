{
 "cells": [
  {
   "cell_type": "code",
   "execution_count": 9,
   "id": "dd8d960f-901e-4a2b-932a-49a76f2266d9",
   "metadata": {},
   "outputs": [],
   "source": [
    "with open('edit.txt', 'r') as f:\n",
    "    txt = f.readlines()[0]\n",
    "\n",
    "newlst = []\n",
    "\n",
    "for w in txt.split(' '):\n",
    "    if len(w) == 4:\n",
    "        wrd = f\"{w[0]}***\"\n",
    "    else:\n",
    "        wrd = w\n",
    "    newlst.append(wrd)\n",
    "\n",
    "text = ' '.join(newlst)\n",
    "\n",
    "with open('clean.txt', 'w') as f:\n",
    "    f.write(text)"
   ]
  }
 ],
 "metadata": {
  "kernelspec": {
   "display_name": "Python 3 (ipykernel)",
   "language": "python",
   "name": "python3"
  },
  "language_info": {
   "codemirror_mode": {
    "name": "ipython",
    "version": 3
   },
   "file_extension": ".py",
   "mimetype": "text/x-python",
   "name": "python",
   "nbconvert_exporter": "python",
   "pygments_lexer": "ipython3",
   "version": "3.13.3"
  }
 },
 "nbformat": 4,
 "nbformat_minor": 5
}

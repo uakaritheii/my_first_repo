{
 "cells": [
  {
   "cell_type": "code",
   "execution_count": 59,
   "id": "b6c143da-f65c-4edb-83f7-ee9c0fab1209",
   "metadata": {},
   "outputs": [
    {
     "name": "stdout",
     "output_type": "stream",
     "text": [
      "['b', 'a', 'b']\n",
      "['b', 'a', 'c']\n"
     ]
    }
   ],
   "source": [
    "#A note on David Cohen's solution. He uses np.random.permutation. \n",
    "\n",
    "sent = \"I have often wondered whether it's possible to read an entire book faster if the useless letters were removed.\"\n",
    "\n",
    "#Exploring random\n",
    "import random\n",
    "import numpy as np\n",
    "import string\n",
    "\n",
    "lst = ['a','b','c']\n",
    "elements = random.choices(lst, k=3) # choosing three elements with replacement\n",
    "print(elements) \n",
    "relements = random.sample(lst,k = 3) # choosing three elements without replacement\n",
    "print(relements)"
   ]
  },
  {
   "cell_type": "code",
   "execution_count": 3,
   "id": "23f7fabd-bf2b-4abb-ba52-6e1a8db02b67",
   "metadata": {},
   "outputs": [
    {
     "data": {
      "text/plain": [
       "\"I evah often owerndde wehhret i'ts posliesb ot reda na eneirt bkoo artfse if teh ssseuel estlter reew ormevde.\""
      ]
     },
     "execution_count": 3,
     "metadata": {},
     "output_type": "execute_result"
    }
   ],
   "source": [
    "# First experiment: Scrambling all letters\n",
    "\n",
    "def randomize(word):\n",
    "    \n",
    "    wlst = [c for c in word]\n",
    "    return ''.join(random.sample(wlst,len(word)))\n",
    "    \n",
    "\n",
    "stuff = ''\n",
    "\n",
    "for w in sent.split(' '):\n",
    "    if '.' in w:\n",
    "        stuff += randomize(w[:-1]) + '.'\n",
    "    else:\n",
    "        stuff += randomize(w) + ' '\n",
    "\n",
    "\n",
    "stuff\n"
   ]
  },
  {
   "cell_type": "code",
   "execution_count": 97,
   "id": "9512240a-344e-4d2f-8c1a-7c055b5eb566",
   "metadata": {},
   "outputs": [
    {
     "data": {
      "text/plain": [
       "\"I have otfen wnedroed wheehtr it's pisbsole to read an eitrne book fsater if the uselses leertts wree reovmed.\""
      ]
     },
     "execution_count": 97,
     "metadata": {},
     "output_type": "execute_result"
    }
   ],
   "source": [
    "#Second experiment; Scrambling letters in between\n",
    "\n",
    "def srandomize(word):\n",
    "    wlst = [c for c in word[1:-1]]\n",
    "    rlst = random.sample(wlst, k = len(wlst))\n",
    "\n",
    "    if len(word) > 1:\n",
    "        rword = word[0] + ''.join(rlst) + word[-1]\n",
    "    else:\n",
    "        rword = word\n",
    "\n",
    "    return rword\n",
    "\n",
    "def rand(text):\n",
    "    newline = ''\n",
    "    uns = text.split()\n",
    "\n",
    "    for w in uns:\n",
    "        if w[-1] in string.punctuation:\n",
    "            newline += srandomize(w[:-1]) + w[-1]\n",
    "        else:\n",
    "            newline += srandomize(w) + ' '\n",
    "\n",
    "    return newline\n",
    "\n",
    "\n",
    "rand(sent)\n",
    "\n"
   ]
  },
  {
   "cell_type": "code",
   "execution_count": 189,
   "id": "326faeed-826b-4658-b899-5e6af2722f50",
   "metadata": {},
   "outputs": [
    {
     "data": {
      "text/plain": [
       "'I hile opmxn wcfzuwxd wnaiosr ikzs pnoyjule to rbvd an ezogve bubk fomytr if tie utdksjs lazjxes wefe rrqogbd.'"
      ]
     },
     "execution_count": 189,
     "metadata": {},
     "output_type": "execute_result"
    }
   ],
   "source": [
    "#Third experiment: Replace all intermediary letters with whatever\n",
    "# Let's try using the numpy library for this\n",
    "\n",
    "alpha = [c for c in string.ascii_lowercase]\n",
    "\n",
    "def irandomize(word):\n",
    "    wlst = [c for c in word[1:-1]]\n",
    "    rlst = np.random.choice(alpha, size = len(wlst), replace = False)\n",
    "\n",
    "    if len(word) > 1:\n",
    "        return word[0] + ''.join(rlst) + word[-1]\n",
    "    else:\n",
    "        return word\n",
    "\n",
    "\n",
    "def irand(text):\n",
    "    newline = ''\n",
    "    uns = text.split()\n",
    "\n",
    "    for w in uns:\n",
    "        if w[-1] in string.punctuation:\n",
    "            newline += irandomize(w[:-1]) + w[-1]\n",
    "        else:\n",
    "            newline += irandomize(w) + ' '\n",
    "\n",
    "    return newline\n",
    "\n",
    "\n",
    "irand(sent)"
   ]
  }
 ],
 "metadata": {
  "kernelspec": {
   "display_name": "Python 3 (ipykernel)",
   "language": "python",
   "name": "python3"
  },
  "language_info": {
   "codemirror_mode": {
    "name": "ipython",
    "version": 3
   },
   "file_extension": ".py",
   "mimetype": "text/x-python",
   "name": "python",
   "nbconvert_exporter": "python",
   "pygments_lexer": "ipython3",
   "version": "3.13.3"
  }
 },
 "nbformat": 4,
 "nbformat_minor": 5
}

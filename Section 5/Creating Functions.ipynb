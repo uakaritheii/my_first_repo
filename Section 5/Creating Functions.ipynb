{
 "cells": [
  {
   "cell_type": "code",
   "execution_count": 1,
   "id": "initial_id",
   "metadata": {
    "ExecuteTime": {
     "end_time": "2025-05-09T12:05:02.793750Z",
     "start_time": "2025-05-09T12:05:02.792396Z"
    }
   },
   "outputs": [
    {
     "name": "stdin",
     "output_type": "stream",
     "text": [
      "Enter the length of side a:  3\n",
      "Enter the length of side b:  4\n"
     ]
    },
    {
     "name": "stdout",
     "output_type": "stream",
     "text": [
      "5.0\n"
     ]
    }
   ],
   "source": [
    "import numpy as np\n",
    "import math\n",
    "import pandas as pd\n",
    "\n",
    "# Python allows us to create our own functions\n",
    "\n",
    "def calculatePythagorean():\n",
    "    a = float(input(\"Enter the length of side a: \"))\n",
    "    b = float(input(\"Enter the length of side b: \"))\n",
    "    return (a**2 + b**2)**(1/2)\n",
    "\n",
    "c = calculatePythagorean()\n",
    "print(c)"
   ]
  },
  {
   "cell_type": "code",
   "execution_count": 9,
   "id": "bb96a1d6-4977-42c7-8abb-a79f49b7fc2e",
   "metadata": {},
   "outputs": [
    {
     "name": "stdout",
     "output_type": "stream",
     "text": [
      "4\n"
     ]
    }
   ],
   "source": [
    "def add(a, b):\n",
    "    return a + b\n",
    "\n",
    "s = add(1, 3)\n",
    "print(s)"
   ]
  },
  {
   "cell_type": "code",
   "execution_count": 38,
   "id": "a440e725-acc2-4017-a0b7-795626734493",
   "metadata": {},
   "outputs": [
    {
     "name": "stdout",
     "output_type": "stream",
     "text": [
      "(11, -1, 30, 0.8333333333333334, 15625)\n",
      "11 -1 30 0.8333333333333334 15625\n"
     ]
    }
   ],
   "source": [
    "def operate(a,b):\n",
    "    return a+b, a-b, a*b, a/b, a**b\n",
    "\n",
    "print(operate(5,6)) #returns a tuple\n",
    "s, d, p, f, e = operate(5,6)\n",
    "print(s,d,p,f,e)"
   ]
  },
  {
   "cell_type": "code",
   "execution_count": 10,
   "id": "1e295e06-32dd-41b6-870f-ec591b009e3b",
   "metadata": {},
   "outputs": [
    {
     "name": "stdout",
     "output_type": "stream",
     "text": [
      "5.0\n",
      "0\n",
      "-224\n"
     ]
    }
   ],
   "source": [
    "# lambda functions are one-line functions that condense functions\n",
    "\n",
    "disc = lambda a, b, c: (b**2 -4*a*c) # we cannot continue onto thenext line with lambda functions\n",
    "py= lambda a,b: (a**2 + b**2)**(1/2)\n",
    "print(py(3,4))\n",
    "print(disc(1,2,1))\n",
    "print(disc(3,8,24))"
   ]
  },
  {
   "cell_type": "code",
   "execution_count": 50,
   "id": "9ac41ed8-5d9c-469b-8e4c-f1148a3dc564",
   "metadata": {},
   "outputs": [
    {
     "data": {
      "text/html": [
       "<div>\n",
       "<style scoped>\n",
       "    .dataframe tbody tr th:only-of-type {\n",
       "        vertical-align: middle;\n",
       "    }\n",
       "\n",
       "    .dataframe tbody tr th {\n",
       "        vertical-align: top;\n",
       "    }\n",
       "\n",
       "    .dataframe thead th {\n",
       "        text-align: right;\n",
       "    }\n",
       "</style>\n",
       "<table border=\"1\" class=\"dataframe\">\n",
       "  <thead>\n",
       "    <tr style=\"text-align: right;\">\n",
       "      <th></th>\n",
       "      <th>custom factorial</th>\n",
       "      <th>math factorial</th>\n",
       "    </tr>\n",
       "  </thead>\n",
       "  <tbody>\n",
       "    <tr>\n",
       "      <th>0</th>\n",
       "      <td>1</td>\n",
       "      <td>1</td>\n",
       "    </tr>\n",
       "    <tr>\n",
       "      <th>1</th>\n",
       "      <td>2</td>\n",
       "      <td>2</td>\n",
       "    </tr>\n",
       "    <tr>\n",
       "      <th>2</th>\n",
       "      <td>6</td>\n",
       "      <td>6</td>\n",
       "    </tr>\n",
       "    <tr>\n",
       "      <th>3</th>\n",
       "      <td>24</td>\n",
       "      <td>24</td>\n",
       "    </tr>\n",
       "    <tr>\n",
       "      <th>4</th>\n",
       "      <td>120</td>\n",
       "      <td>120</td>\n",
       "    </tr>\n",
       "    <tr>\n",
       "      <th>5</th>\n",
       "      <td>720</td>\n",
       "      <td>720</td>\n",
       "    </tr>\n",
       "    <tr>\n",
       "      <th>6</th>\n",
       "      <td>5040</td>\n",
       "      <td>5040</td>\n",
       "    </tr>\n",
       "    <tr>\n",
       "      <th>7</th>\n",
       "      <td>40320</td>\n",
       "      <td>40320</td>\n",
       "    </tr>\n",
       "    <tr>\n",
       "      <th>8</th>\n",
       "      <td>362880</td>\n",
       "      <td>362880</td>\n",
       "    </tr>\n",
       "  </tbody>\n",
       "</table>\n",
       "</div>"
      ],
      "text/plain": [
       "   custom factorial  math factorial\n",
       "0                 1               1\n",
       "1                 2               2\n",
       "2                 6               6\n",
       "3                24              24\n",
       "4               120             120\n",
       "5               720             720\n",
       "6              5040            5040\n",
       "7             40320           40320\n",
       "8            362880          362880"
      ]
     },
     "execution_count": 50,
     "metadata": {},
     "output_type": "execute_result"
    }
   ],
   "source": [
    "#Exercise!\n",
    "#Create a factorial function and compare it with the factorial in the math module\n",
    "def fact(a) -> int:\n",
    "    alist = np.arange(1,a+1)\n",
    "    return np.prod(alist)\n",
    "\n",
    "labels = ['custom factorial', 'math factorial']\n",
    "D = {labels[0]: [], labels[1]: []}\n",
    "\n",
    "for i in range(1, 10):\n",
    "    D[labels[0]].append(fact(i))\n",
    "    D[labels[1]].append(math.factorial(i))\n",
    "\n",
    "df = pd.DataFrame(data=D)\n",
    "df\n",
    "    "
   ]
  },
  {
   "cell_type": "code",
   "execution_count": null,
   "id": "fab518c5-2227-4b1c-8994-798200282eca",
   "metadata": {},
   "outputs": [],
   "source": []
  }
 ],
 "metadata": {
  "kernelspec": {
   "display_name": "Python 3 (ipykernel)",
   "language": "python",
   "name": "python3"
  },
  "language_info": {
   "codemirror_mode": {
    "name": "ipython",
    "version": 3
   },
   "file_extension": ".py",
   "mimetype": "text/x-python",
   "name": "python",
   "nbconvert_exporter": "python",
   "pygments_lexer": "ipython3",
   "version": "3.13.3"
  }
 },
 "nbformat": 4,
 "nbformat_minor": 5
}

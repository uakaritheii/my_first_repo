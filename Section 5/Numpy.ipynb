{
 "cells": [
  {
   "cell_type": "code",
   "execution_count": 2,
   "id": "8aa41c3a8aea49cc",
   "metadata": {
    "ExecuteTime": {
     "end_time": "2025-05-09T10:14:22.865988Z",
     "start_time": "2025-05-09T10:14:22.637550Z"
    }
   },
   "outputs": [],
   "source": [
    "# Python is limited in functionality\n",
    "# Hence, we import modules or libraries to make certain tasks easier\n",
    "\n",
    "import numpy as np"
   ]
  },
  {
   "cell_type": "code",
   "execution_count": 6,
   "id": "initial_id",
   "metadata": {
    "ExecuteTime": {
     "end_time": "2025-05-09T10:13:29.059244Z",
     "start_time": "2025-05-09T10:13:29.057667Z"
    }
   },
   "outputs": [
    {
     "name": "stdout",
     "output_type": "stream",
     "text": [
      "20.0\n"
     ]
    }
   ],
   "source": [
    "lst = [10, 20, 30]\n",
    "mean = np.mean(lst)\n",
    "print(mean)"
   ]
  },
  {
   "cell_type": "code",
   "execution_count": 8,
   "id": "f29be89e-5e80-4bbe-8d3a-f51ff1a41f71",
   "metadata": {},
   "outputs": [
    {
     "name": "stdout",
     "output_type": "stream",
     "text": [
      "[1. 3. 5. 7. 9.]\n"
     ]
    }
   ],
   "source": [
    "lstn = np.linspace(1, 9, 5) # returns 5 values between 1 and 9 INCLUSIVE that are equally spaced\n",
    "print(lstn)"
   ]
  },
  {
   "cell_type": "code",
   "execution_count": 13,
   "id": "1477980b-2c70-45aa-a366-c663c3e22369",
   "metadata": {},
   "outputs": [
    {
     "name": "stdout",
     "output_type": "stream",
     "text": [
      "<class 'list'>\n",
      "<class 'numpy.ndarray'>\n",
      "[1 2 3 4 5 6]\n",
      "[1, 2, 3, 4, 5, 6]\n"
     ]
    }
   ],
   "source": [
    "nlist = [1,2,3,4,5,6]\n",
    "nplist = np.array(nlist) # a numpy array is a different data type than python lists\n",
    "print(type(nlist))\n",
    "print(type(nplist))\n",
    "print(nplist) # a numpy list does not have commas separating each element\n",
    "print(nlist)"
   ]
  },
  {
   "cell_type": "code",
   "execution_count": 19,
   "id": "73f3fef4-89a8-44a6-bd16-76caf2020262",
   "metadata": {},
   "outputs": [
    {
     "name": "stdout",
     "output_type": "stream",
     "text": [
      "1\n",
      "1\n",
      "1.707825127659933\n"
     ]
    }
   ],
   "source": [
    "#The benefit of using np arrays is that we can call on numpy-specific methods\n",
    "\n",
    "minvalue = nplist.min()\n",
    "print(minvalue)\n",
    "# similarly\n",
    "minvalue = np.min(nplist)\n",
    "print(minvalue)\n",
    "std = nplist.std() # returns standard deviation\n",
    "print(std)"
   ]
  },
  {
   "cell_type": "code",
   "execution_count": 22,
   "id": "77f9a598-1d4f-43ed-8aa5-c2df2a3c67b3",
   "metadata": {},
   "outputs": [
    {
     "name": "stdout",
     "output_type": "stream",
     "text": [
      "[1, 2, 3, 4, 5]\n"
     ]
    }
   ],
   "source": [
    "# Some methods change the variable itself instead \n",
    "\n",
    "n= [5,4,3,2,1]\n",
    "n.sort()\n",
    "print(n) #variable is permanently changed"
   ]
  },
  {
   "cell_type": "code",
   "execution_count": 29,
   "id": "28d8f203-ba00-48d8-8503-82817a8bb452",
   "metadata": {},
   "outputs": [
    {
     "name": "stdout",
     "output_type": "stream",
     "text": [
      "[5, 4, 3, 2, 1] <class 'list'>\n",
      "[1 2 3 4 5] <class 'numpy.ndarray'>\n"
     ]
    }
   ],
   "source": [
    "# Using numpy methods could also change the data type\n",
    "\n",
    "n= n[::-1]\n",
    "print(n, type(n))\n",
    "n = np.sort(n)\n",
    "print(n, type(n)) # data type has changed to np array"
   ]
  }
 ],
 "metadata": {
  "kernelspec": {
   "display_name": "Python 3 (ipykernel)",
   "language": "python",
   "name": "python3"
  },
  "language_info": {
   "codemirror_mode": {
    "name": "ipython",
    "version": 3
   },
   "file_extension": ".py",
   "mimetype": "text/x-python",
   "name": "python",
   "nbconvert_exporter": "python",
   "pygments_lexer": "ipython3",
   "version": "3.13.3"
  }
 },
 "nbformat": 4,
 "nbformat_minor": 5
}

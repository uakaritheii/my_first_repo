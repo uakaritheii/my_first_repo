{
 "cells": [
  {
   "cell_type": "code",
   "id": "initial_id",
   "metadata": {
    "collapsed": true,
    "ExecuteTime": {
     "end_time": "2025-05-09T10:10:01.144905Z",
     "start_time": "2025-05-09T10:10:01.141074Z"
    }
   },
   "source": [
    "# common functions\n",
    "\n",
    "lst = [10,20,30]\n",
    "sum(lst) #returns the sum of elements in the list\n",
    "len(lst) #returns the number of elements in the list\n"
   ],
   "outputs": [
    {
     "data": {
      "text/plain": [
       "3"
      ]
     },
     "execution_count": 1,
     "metadata": {},
     "output_type": "execute_result"
    }
   ],
   "execution_count": 1
  },
  {
   "metadata": {
    "ExecuteTime": {
     "end_time": "2025-05-09T10:10:01.244593Z",
     "start_time": "2025-05-09T10:10:01.243409Z"
    }
   },
   "cell_type": "code",
   "source": "",
   "id": "5f6aa01761939372",
   "outputs": [],
   "execution_count": null
  },
  {
   "metadata": {
    "ExecuteTime": {
     "end_time": "2025-05-09T10:10:01.252752Z",
     "start_time": "2025-05-09T10:10:01.251386Z"
    }
   },
   "cell_type": "code",
   "source": "",
   "id": "546dbde92a87304f",
   "outputs": [],
   "execution_count": null
  }
 ],
 "metadata": {
  "kernelspec": {
   "display_name": "Python 3",
   "language": "python",
   "name": "python3"
  },
  "language_info": {
   "codemirror_mode": {
    "name": "ipython",
    "version": 2
   },
   "file_extension": ".py",
   "mimetype": "text/x-python",
   "name": "python",
   "nbconvert_exporter": "python",
   "pygments_lexer": "ipython2",
   "version": "2.7.6"
  }
 },
 "nbformat": 4,
 "nbformat_minor": 5
}

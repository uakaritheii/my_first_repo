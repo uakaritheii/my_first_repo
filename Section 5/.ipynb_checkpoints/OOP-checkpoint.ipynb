{
 "cells": [
  {
   "cell_type": "code",
   "execution_count": 9,
   "id": "initial_id",
   "metadata": {
    "ExecuteTime": {
     "end_time": "2025-05-09T15:43:50.576722Z",
     "start_time": "2025-05-09T15:43:50.575328Z"
    }
   },
   "outputs": [],
   "source": [
    "# OOP (classes)\n",
    "\n",
    "class Experiment(object): #object is also known as the superclass or the parent class\n",
    "    \n",
    "    # a constructor method defines how the object gets created\n",
    "    def __init__(self, eType, dataN, status = 'ongoing'): #our function has a lot of parameters with the status's default being 'ongoing'\n",
    "        self.expType = eType #self is used to internall call and identify the class\n",
    "        self.dataCount = dataN \n",
    "        self.expStatus = status # your initialized variable names can also be the same as the variable names\n",
    "\n",
    "    def increaseN(self, N):\n",
    "        self.dataCount += N\n",
    "\n",
    "    def changeStatus(self, status):\n",
    "        self.expStatus = status\n",
    "\n",
    "    def __str__(self):\n",
    "        return f\"Exp of type {self.expType} has {self.dataCount} {self.expStatus} experiments\"\n",
    "    \n",
    "    "
   ]
  },
  {
   "cell_type": "code",
   "execution_count": 11,
   "id": "5f5ad927-5cc8-48ee-b549-6540222839c7",
   "metadata": {},
   "outputs": [
    {
     "name": "stdout",
     "output_type": "stream",
     "text": [
      "Exp of type Quantum Tunnelling has 15 ongoing experiments\n",
      "15\n",
      "17\n",
      "ongoing\n",
      "paused\n",
      "Exp of type Quantum Tunnelling has 17 paused experiments\n"
     ]
    }
   ],
   "source": [
    "myExperiment = Experiment('Quantum Tunnelling', 15) #I am running 15 experiments of type Quantum Tunnelling\n",
    "\n",
    "print(myExperiment)\n",
    "\n",
    "print(myExperiment.dataCount)\n",
    "myExperiment.increaseN(2)\n",
    "print(myExperiment.dataCount)\n",
    "\n",
    "print(myExperiment.expStatus)\n",
    "myExperiment.changeStatus('paused')\n",
    "print(myExperiment.expStatus)\n",
    "\n",
    "print(myExperiment)"
   ]
  },
  {
   "cell_type": "code",
   "execution_count": 23,
   "id": "0fce2e36-7ee7-4614-8fca-c690366fade1",
   "metadata": {},
   "outputs": [
    {
     "name": "stdout",
     "output_type": "stream",
     "text": [
      "The outcome of the most recent game of Monopoly was a None.\n",
      "The outcome of the most recent game of Monopoly was a win.\n",
      "10 5\n",
      "The outcome of the most recent game of Monopoly was a loss.\n",
      "11 5\n"
     ]
    }
   ],
   "source": [
    "# Exercise: Board game class\n",
    "\n",
    "class myHobby(object):\n",
    "    def __init__(self, name, nplayed = 0, nwon = 0, cstatus = None):\n",
    "        self.name = name\n",
    "        self.nplayed = nplayed\n",
    "        self.nwon = nwon\n",
    "        self.cstatus = cstatus\n",
    "\n",
    "    def update(self, plays, wins, status):\n",
    "        self.nplayed = plays\n",
    "        self.nwon = wins\n",
    "        self.cstatus = status\n",
    "\n",
    "    def latest(self, status):\n",
    "        stati = ['loss', 'win']\n",
    "        k = stati.index(status)\n",
    "        self.cstatus = stati[k]\n",
    "        self.nplayed += 1\n",
    "        self.nwon += k\n",
    "\n",
    "    def __str__(self):\n",
    "        return f\"The outcome of the most recent game of {self.name} was a {self.cstatus}.\"\n",
    "\n",
    "\n",
    "monopoly = myHobby('Monopoly')\n",
    "print(monopoly)\n",
    "\n",
    "monopoly.update(10, 5, 'win')\n",
    "print(monopoly)\n",
    "print(monopoly.nplayed, monopoly.nwon)\n",
    "\n",
    "monopoly.latest('loss')\n",
    "print(monopoly)\n",
    "print(monopoly.nplayed, monopoly.nwon)\n"
   ]
  }
 ],
 "metadata": {
  "kernelspec": {
   "display_name": "Python 3 (ipykernel)",
   "language": "python",
   "name": "python3"
  },
  "language_info": {
   "codemirror_mode": {
    "name": "ipython",
    "version": 3
   },
   "file_extension": ".py",
   "mimetype": "text/x-python",
   "name": "python",
   "nbconvert_exporter": "python",
   "pygments_lexer": "ipython3",
   "version": "3.13.3"
  }
 },
 "nbformat": 4,
 "nbformat_minor": 5
}

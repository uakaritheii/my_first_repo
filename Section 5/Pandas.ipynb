{
 "cells": [
  {
   "cell_type": "code",
   "execution_count": 1,
   "id": "initial_id",
   "metadata": {
    "ExecuteTime": {
     "end_time": "2025-05-09T11:10:15.277235Z",
     "start_time": "2025-05-09T11:10:15.275895Z"
    }
   },
   "outputs": [],
   "source": [
    "import pandas as pd\n",
    "import numpy as np\n",
    "import matplotlib.pyplot as plt\n",
    "import inspect"
   ]
  },
  {
   "cell_type": "code",
   "execution_count": 4,
   "id": "071dc9b6-be77-408f-868a-cde24651bb45",
   "metadata": {},
   "outputs": [
    {
     "name": "stdout",
     "output_type": "stream",
     "text": [
      "[-1.64025123 -0.99393447 -1.13610727  0.18444112 -0.91106702  1.6292027\n",
      " -1.39628885  0.40532403  0.4900322  -0.3153634   0.75840749  0.05895183\n",
      " -0.14658756 -0.46347143  0.07751211  0.36826636  0.92976582  0.54510204\n",
      "  0.01248839 -0.44696344  0.46535438  0.34475229  0.34726813 -1.49953937\n",
      " -1.03968004  1.47461315 -0.63213916 -1.21435018 -0.9189934   0.57547632\n",
      " -1.23624329 -0.8707877  -0.24722022  0.66550859  2.64692728 -0.90996567\n",
      " -0.5606813   0.09943283 -2.62055535 -1.24263607  0.2097704   0.89244128\n",
      " -0.11741602  2.11194318  1.10752924  1.13335917  1.0219742  -1.06232217\n",
      " -0.4554914  -0.65194485 -1.21343537 -0.26728703  0.44223416 -0.25414727\n",
      "  1.11822651 -0.06421989 -0.11562262  1.03761791  0.05467943  0.94768604\n",
      " -1.01802915 -0.58185138 -0.02280927  0.27331929  0.439973    0.45508073\n",
      " -0.09508762 -0.13424558 -1.44346561 -0.98016206 -0.92641064  2.08454841\n",
      " -2.0312344  -0.83679479 -0.72947466 -0.4799692   0.60250221  0.59270344\n",
      " -0.20391385 -1.32356674  0.85550546  0.90584442  1.00346588 -2.03710468\n",
      " -0.31011778  0.25202824  1.12237857  0.63026456 -1.35500666  0.13885212\n",
      "  0.32222833  0.56170281 -0.16620312  0.4889681  -0.20214314 -0.59429085\n",
      " -0.34303407  0.32663676  1.51868714  1.58227421]\n",
      "-0.041463760535380666\n"
     ]
    },
    {
     "data": {
      "text/plain": [
       "(array([ 1.,  3., 11., 16., 21., 21., 16.,  7.,  3.,  1.]),\n",
       " array([-2.62055535, -2.09380709, -1.56705882, -1.04031056, -0.5135623 ,\n",
       "         0.01318597,  0.53993423,  1.06668249,  1.59343076,  2.12017902,\n",
       "         2.64692728]),\n",
       " <BarContainer object of 10 artists>)"
      ]
     },
     "execution_count": 4,
     "metadata": {},
     "output_type": "execute_result"
    },
    {
     "data": {
      "image/png": "[encoded data removed]",
      "text/plain": [
       "<Figure size 640x480 with 1 Axes>"
      ]
     },
     "metadata": {},
     "output_type": "display_data"
    }
   ],
   "source": [
    "var1 = np.random.randn(100) #random is a module in the np library that allows you generate a random number based on a distribution\n",
    "print(var1) #randn is based on the normal distribution. More values will be centered around 0\n",
    "print(var1.mean())\n",
    "plt.xlim(-20,40)\n",
    "plt.hist(var1)\n"
   ]
  },
  {
   "cell_type": "code",
   "execution_count": 31,
   "id": "bb08f84c-b9df-415a-add2-87ebf49a263f",
   "metadata": {},
   "outputs": [
    {
     "data": {
      "text/plain": [
       "np.float64(19.275206674857987)"
      ]
     },
     "execution_count": 31,
     "metadata": {},
     "output_type": "execute_result"
    },
    {
     "data": {
      "image/png": "[encoded data removed]",
      "text/plain": [
       "<Figure size 640x480 with 1 Axes>"
      ]
     },
     "metadata": {},
     "output_type": "display_data"
    }
   ],
   "source": [
    "# Now let us increase the variance or spread on our data and increase the mean to 20\n",
    "var2 = var1*5 + 20\n",
    "plt.hist(var2)\n",
    "plt.xlim(-20,40)\n",
    "var2.mean()"
   ]
  },
  {
   "cell_type": "code",
   "execution_count": 25,
   "id": "a220c3f5-ce41-4ff1-8bc1-846cf0173961",
   "metadata": {},
   "outputs": [
    {
     "name": "stdout",
     "output_type": "stream",
     "text": [
      "[ True False  True False False False False False  True  True  True False\n",
      "  True  True False False  True False False  True False  True  True  True\n",
      "  True False False  True False  True  True False False  True  True  True\n",
      "  True False  True  True False  True  True False  True  True  True  True\n",
      "  True False  True  True False  True False  True  True  True  True  True\n",
      "  True  True False  True False  True False  True  True False False False\n",
      "  True False  True False  True  True False  True False  True False False\n",
      "  True False False  True False  True  True  True  True  True  True  True\n",
      "  True False  True  True]\n"
     ]
    },
    {
     "data": {
      "text/plain": [
       "np.float64(0.61)"
      ]
     },
     "execution_count": 25,
     "metadata": {},
     "output_type": "execute_result"
    }
   ],
   "source": [
    "var3 = np.random.randn(100)>0 # generates a boolean array that compares each number in the normal distribution against 2\n",
    "print(var3)\n",
    "np.average(var3)"
   ]
  },
  {
   "cell_type": "code",
   "execution_count": 53,
   "id": "6759871b-975e-45e9-ba13-cb94fc880db9",
   "metadata": {},
   "outputs": [
    {
     "data": {
      "text/html": [
       "<div>\n",
       "<style scoped>\n",
       "    .dataframe tbody tr th:only-of-type {\n",
       "        vertical-align: middle;\n",
       "    }\n",
       "\n",
       "    .dataframe tbody tr th {\n",
       "        vertical-align: top;\n",
       "    }\n",
       "\n",
       "    .dataframe thead th {\n",
       "        text-align: right;\n",
       "    }\n",
       "</style>\n",
       "<table border=\"1\" class=\"dataframe\">\n",
       "  <thead>\n",
       "    <tr style=\"text-align: right;\">\n",
       "      <th></th>\n",
       "      <th>Temp (C)</th>\n",
       "      <th>Ice Cream Eaten</th>\n",
       "    </tr>\n",
       "  </thead>\n",
       "  <tbody>\n",
       "    <tr>\n",
       "      <th>0</th>\n",
       "      <td>24.137434</td>\n",
       "      <td>False</td>\n",
       "    </tr>\n",
       "    <tr>\n",
       "      <th>1</th>\n",
       "      <td>20.007515</td>\n",
       "      <td>False</td>\n",
       "    </tr>\n",
       "    <tr>\n",
       "      <th>2</th>\n",
       "      <td>14.110509</td>\n",
       "      <td>False</td>\n",
       "    </tr>\n",
       "    <tr>\n",
       "      <th>3</th>\n",
       "      <td>23.189646</td>\n",
       "      <td>False</td>\n",
       "    </tr>\n",
       "    <tr>\n",
       "      <th>4</th>\n",
       "      <td>16.437392</td>\n",
       "      <td>True</td>\n",
       "    </tr>\n",
       "    <tr>\n",
       "      <th>5</th>\n",
       "      <td>19.797842</td>\n",
       "      <td>False</td>\n",
       "    </tr>\n",
       "    <tr>\n",
       "      <th>6</th>\n",
       "      <td>9.166638</td>\n",
       "      <td>True</td>\n",
       "    </tr>\n",
       "    <tr>\n",
       "      <th>7</th>\n",
       "      <td>21.030497</td>\n",
       "      <td>False</td>\n",
       "    </tr>\n",
       "    <tr>\n",
       "      <th>8</th>\n",
       "      <td>20.208867</td>\n",
       "      <td>True</td>\n",
       "    </tr>\n",
       "    <tr>\n",
       "      <th>9</th>\n",
       "      <td>21.973747</td>\n",
       "      <td>True</td>\n",
       "    </tr>\n",
       "  </tbody>\n",
       "</table>\n",
       "</div>"
      ],
      "text/plain": [
       "    Temp (C)  Ice Cream Eaten\n",
       "0  24.137434            False\n",
       "1  20.007515            False\n",
       "2  14.110509            False\n",
       "3  23.189646            False\n",
       "4  16.437392             True\n",
       "5  19.797842            False\n",
       "6   9.166638             True\n",
       "7  21.030497            False\n",
       "8  20.208867             True\n",
       "9  21.973747             True"
      ]
     },
     "execution_count": 53,
     "metadata": {},
     "output_type": "execute_result"
    }
   ],
   "source": [
    "# Now let us assume that var2 corresponds to temperatures and var3 corresponds to whether ice cream was eaten that day\n",
    "\n",
    "labels = ['Temp (C)', 'Ice Cream Eaten']\n",
    "D = {labels[0]: var2, labels[1]: var3} # this data is very messy so let's use pandas to help organize it\n",
    "df = pd.DataFrame(data=D)\n",
    "df.head(10) # shows us the first 10 rows"
   ]
  },
  {
   "cell_type": "code",
   "execution_count": 54,
   "id": "d3548881-0bbe-4547-b552-7a01d352171e",
   "metadata": {},
   "outputs": [
    {
     "name": "stdout",
     "output_type": "stream",
     "text": [
      "Temp (C)           100\n",
      "Ice Cream Eaten    100\n",
      "dtype: int64\n",
      "\n",
      "\n",
      "Temp (C)           19.275207\n",
      "Ice Cream Eaten     0.540000\n",
      "dtype: float64\n"
     ]
    }
   ],
   "source": [
    "#some more information we can identify\n",
    "print(df.count())\n",
    "print(\"\\n\")\n",
    "print(df.mean()) # we ate ice cream for just over half the days"
   ]
  },
  {
   "cell_type": "code",
   "execution_count": 66,
   "id": "4f2ca3ad-d26d-4c21-93d6-c03786ed069d",
   "metadata": {},
   "outputs": [
    {
     "name": "stderr",
     "output_type": "stream",
     "text": [
      "C:\\Users\\justa\\AppData\\Local\\Temp\\ipykernel_32020\\935371874.py:8: RuntimeWarning: divide by zero encountered in log\n",
      "  numl = np.log(nums)\n"
     ]
    },
    {
     "data": {
      "text/html": [
       "<div>\n",
       "<style scoped>\n",
       "    .dataframe tbody tr th:only-of-type {\n",
       "        vertical-align: middle;\n",
       "    }\n",
       "\n",
       "    .dataframe tbody tr th {\n",
       "        vertical-align: top;\n",
       "    }\n",
       "\n",
       "    .dataframe thead th {\n",
       "        text-align: right;\n",
       "    }\n",
       "</style>\n",
       "<table border=\"1\" class=\"dataframe\">\n",
       "  <thead>\n",
       "    <tr style=\"text-align: right;\">\n",
       "      <th></th>\n",
       "      <th>number</th>\n",
       "      <th>square</th>\n",
       "      <th>log</th>\n",
       "    </tr>\n",
       "  </thead>\n",
       "  <tbody>\n",
       "    <tr>\n",
       "      <th>0</th>\n",
       "      <td>0</td>\n",
       "      <td>0</td>\n",
       "      <td>-inf</td>\n",
       "    </tr>\n",
       "    <tr>\n",
       "      <th>1</th>\n",
       "      <td>1</td>\n",
       "      <td>1</td>\n",
       "      <td>0.000000</td>\n",
       "    </tr>\n",
       "    <tr>\n",
       "      <th>2</th>\n",
       "      <td>2</td>\n",
       "      <td>4</td>\n",
       "      <td>0.693147</td>\n",
       "    </tr>\n",
       "    <tr>\n",
       "      <th>3</th>\n",
       "      <td>3</td>\n",
       "      <td>9</td>\n",
       "      <td>1.098612</td>\n",
       "    </tr>\n",
       "    <tr>\n",
       "      <th>4</th>\n",
       "      <td>4</td>\n",
       "      <td>16</td>\n",
       "      <td>1.386294</td>\n",
       "    </tr>\n",
       "    <tr>\n",
       "      <th>5</th>\n",
       "      <td>5</td>\n",
       "      <td>25</td>\n",
       "      <td>1.609438</td>\n",
       "    </tr>\n",
       "    <tr>\n",
       "      <th>6</th>\n",
       "      <td>6</td>\n",
       "      <td>36</td>\n",
       "      <td>1.791759</td>\n",
       "    </tr>\n",
       "    <tr>\n",
       "      <th>7</th>\n",
       "      <td>7</td>\n",
       "      <td>49</td>\n",
       "      <td>1.945910</td>\n",
       "    </tr>\n",
       "    <tr>\n",
       "      <th>8</th>\n",
       "      <td>8</td>\n",
       "      <td>64</td>\n",
       "      <td>2.079442</td>\n",
       "    </tr>\n",
       "    <tr>\n",
       "      <th>9</th>\n",
       "      <td>9</td>\n",
       "      <td>81</td>\n",
       "      <td>2.197225</td>\n",
       "    </tr>\n",
       "    <tr>\n",
       "      <th>10</th>\n",
       "      <td>10</td>\n",
       "      <td>100</td>\n",
       "      <td>2.302585</td>\n",
       "    </tr>\n",
       "  </tbody>\n",
       "</table>\n",
       "</div>"
      ],
      "text/plain": [
       "    number  square       log\n",
       "0        0       0      -inf\n",
       "1        1       1  0.000000\n",
       "2        2       4  0.693147\n",
       "3        3       9  1.098612\n",
       "4        4      16  1.386294\n",
       "5        5      25  1.609438\n",
       "6        6      36  1.791759\n",
       "7        7      49  1.945910\n",
       "8        8      64  2.079442\n",
       "9        9      81  2.197225\n",
       "10      10     100  2.302585"
      ]
     },
     "execution_count": 66,
     "metadata": {},
     "output_type": "execute_result"
    }
   ],
   "source": [
    "# exercise: create a pandas dataframe with three variables\n",
    "# 1) integers from 0-10\n",
    "# 2) their square\n",
    "# 3) their log\n",
    "\n",
    "nums = np.arange(0,11)\n",
    "numsq = nums**2\n",
    "numl = np.log(nums)\n",
    "lbl = ['number', 'square', 'log']\n",
    "N = {lbl[0]: nums, lbl[1]: numsq, lbl[2]: numl}\n",
    "ndf = pd.DataFrame(N)\n",
    "ndf"
   ]
  },
  {
   "cell_type": "code",
   "execution_count": 68,
   "id": "dfb00f1f-9d16-4e61-a414-eef42deade31",
   "metadata": {},
   "outputs": [
    {
     "data": {
      "text/plain": [
       "\u001b[31mSignature:\u001b[39m sum(iterable, /, start=\u001b[32m0\u001b[39m)\n",
       "\u001b[31mDocstring:\u001b[39m\n",
       "Return the sum of a 'start' value (default: 0) plus an iterable of numbers\n",
       "\n",
       "When the iterable is empty, return the start value.\n",
       "This function is intended specifically for use with numeric values and may\n",
       "reject non-numeric types.\n",
       "\u001b[31mType:\u001b[39m      builtin_function_or_method"
      ]
     },
     "metadata": {},
     "output_type": "display_data"
    }
   ],
   "source": [
    "# Getting help on Python functions\n",
    "\n",
    "sum??"
   ]
  },
  {
   "cell_type": "code",
   "execution_count": 69,
   "id": "63ed9a5f-d168-4f37-99a0-397ab5553078",
   "metadata": {},
   "outputs": [
    {
     "name": "stdout",
     "output_type": "stream",
     "text": [
      "Help on built-in function sum in module builtins:\n",
      "\n",
      "sum(iterable, /, start=0)\n",
      "    Return the sum of a 'start' value (default: 0) plus an iterable of numbers\n",
      "\n",
      "    When the iterable is empty, return the start value.\n",
      "    This function is intended specifically for use with numeric values and may\n",
      "    reject non-numeric types.\n",
      "\n"
     ]
    }
   ],
   "source": [
    "help(sum)"
   ]
  },
  {
   "cell_type": "code",
   "execution_count": 73,
   "id": "380e948e-4400-4f85-abb8-7ab7db38b43e",
   "metadata": {},
   "outputs": [
    {
     "data": {
      "text/plain": [
       "(['@array_function_dispatch(_linspace_dispatcher)\\n',\n",
       "  'def linspace(start, stop, num=50, endpoint=True, retstep=False, dtype=None,\\n',\n",
       "  '             axis=0, *, device=None):\\n',\n",
       "  '    \"\"\"\\n',\n",
       "  '    Return evenly spaced numbers over a specified interval.\\n',\n",
       "  '\\n',\n",
       "  '    Returns `num` evenly spaced samples, calculated over the\\n',\n",
       "  '    interval [`start`, `stop`].\\n',\n",
       "  '\\n',\n",
       "  '    The endpoint of the interval can optionally be excluded.\\n',\n",
       "  '\\n',\n",
       "  '    .. versionchanged:: 1.20.0\\n',\n",
       "  '        Values are rounded towards ``-inf`` instead of ``0`` when an\\n',\n",
       "  '        integer ``dtype`` is specified. The old behavior can\\n',\n",
       "  '        still be obtained with ``np.linspace(start, stop, num).astype(int)``\\n',\n",
       "  '\\n',\n",
       "  '    Parameters\\n',\n",
       "  '    ----------\\n',\n",
       "  '    start : array_like\\n',\n",
       "  '        The starting value of the sequence.\\n',\n",
       "  '    stop : array_like\\n',\n",
       "  '        The end value of the sequence, unless `endpoint` is set to False.\\n',\n",
       "  '        In that case, the sequence consists of all but the last of ``num + 1``\\n',\n",
       "  '        evenly spaced samples, so that `stop` is excluded.  Note that the step\\n',\n",
       "  '        size changes when `endpoint` is False.\\n',\n",
       "  '    num : int, optional\\n',\n",
       "  '        Number of samples to generate. Default is 50. Must be non-negative.\\n',\n",
       "  '    endpoint : bool, optional\\n',\n",
       "  '        If True, `stop` is the last sample. Otherwise, it is not included.\\n',\n",
       "  '        Default is True.\\n',\n",
       "  '    retstep : bool, optional\\n',\n",
       "  '        If True, return (`samples`, `step`), where `step` is the spacing\\n',\n",
       "  '        between samples.\\n',\n",
       "  '    dtype : dtype, optional\\n',\n",
       "  '        The type of the output array.  If `dtype` is not given, the data type\\n',\n",
       "  '        is inferred from `start` and `stop`. The inferred dtype will never be\\n',\n",
       "  '        an integer; `float` is chosen even if the arguments would produce an\\n',\n",
       "  '        array of integers.\\n',\n",
       "  '    axis : int, optional\\n',\n",
       "  '        The axis in the result to store the samples.  Relevant only if start\\n',\n",
       "  '        or stop are array-like.  By default (0), the samples will be along a\\n',\n",
       "  '        new axis inserted at the beginning. Use -1 to get an axis at the end.\\n',\n",
       "  '    device : str, optional\\n',\n",
       "  '        The device on which to place the created array. Default: None.\\n',\n",
       "  '        For Array-API interoperability only, so must be ``\"cpu\"`` if passed.\\n',\n",
       "  '\\n',\n",
       "  '        .. versionadded:: 2.0.0\\n',\n",
       "  '\\n',\n",
       "  '    Returns\\n',\n",
       "  '    -------\\n',\n",
       "  '    samples : ndarray\\n',\n",
       "  '        There are `num` equally spaced samples in the closed interval\\n',\n",
       "  '        ``[start, stop]`` or the half-open interval ``[start, stop)``\\n',\n",
       "  '        (depending on whether `endpoint` is True or False).\\n',\n",
       "  '    step : float, optional\\n',\n",
       "  '        Only returned if `retstep` is True\\n',\n",
       "  '\\n',\n",
       "  '        Size of spacing between samples.\\n',\n",
       "  '\\n',\n",
       "  '\\n',\n",
       "  '    See Also\\n',\n",
       "  '    --------\\n',\n",
       "  '    arange : Similar to `linspace`, but uses a step size (instead of the\\n',\n",
       "  '             number of samples).\\n',\n",
       "  '    geomspace : Similar to `linspace`, but with numbers spaced evenly on a log\\n',\n",
       "  '                scale (a geometric progression).\\n',\n",
       "  '    logspace : Similar to `geomspace`, but with the end points specified as\\n',\n",
       "  '               logarithms.\\n',\n",
       "  '    :ref:`how-to-partition`\\n',\n",
       "  '\\n',\n",
       "  '    Examples\\n',\n",
       "  '    --------\\n',\n",
       "  '    >>> import numpy as np\\n',\n",
       "  '    >>> np.linspace(2.0, 3.0, num=5)\\n',\n",
       "  '    array([2.  , 2.25, 2.5 , 2.75, 3.  ])\\n',\n",
       "  '    >>> np.linspace(2.0, 3.0, num=5, endpoint=False)\\n',\n",
       "  '    array([2. ,  2.2,  2.4,  2.6,  2.8])\\n',\n",
       "  '    >>> np.linspace(2.0, 3.0, num=5, retstep=True)\\n',\n",
       "  '    (array([2.  ,  2.25,  2.5 ,  2.75,  3.  ]), 0.25)\\n',\n",
       "  '\\n',\n",
       "  '    Graphical illustration:\\n',\n",
       "  '\\n',\n",
       "  '    >>> import matplotlib.pyplot as plt\\n',\n",
       "  '    >>> N = 8\\n',\n",
       "  '    >>> y = np.zeros(N)\\n',\n",
       "  '    >>> x1 = np.linspace(0, 10, N, endpoint=True)\\n',\n",
       "  '    >>> x2 = np.linspace(0, 10, N, endpoint=False)\\n',\n",
       "  \"    >>> plt.plot(x1, y, 'o')\\n\",\n",
       "  '    [<matplotlib.lines.Line2D object at 0x...>]\\n',\n",
       "  \"    >>> plt.plot(x2, y + 0.5, 'o')\\n\",\n",
       "  '    [<matplotlib.lines.Line2D object at 0x...>]\\n',\n",
       "  '    >>> plt.ylim([-0.5, 1])\\n',\n",
       "  '    (-0.5, 1)\\n',\n",
       "  '    >>> plt.show()\\n',\n",
       "  '\\n',\n",
       "  '    \"\"\"\\n',\n",
       "  '    num = operator.index(num)\\n',\n",
       "  '    if num < 0:\\n',\n",
       "  '        raise ValueError(\\n',\n",
       "  '            \"Number of samples, %s, must be non-negative.\" % num\\n',\n",
       "  '        )\\n',\n",
       "  '    div = (num - 1) if endpoint else num\\n',\n",
       "  '\\n',\n",
       "  '    conv = _array_converter(start, stop)\\n',\n",
       "  '    start, stop = conv.as_arrays()\\n',\n",
       "  '    dt = conv.result_type(ensure_inexact=True)\\n',\n",
       "  '\\n',\n",
       "  '    if dtype is None:\\n',\n",
       "  '        dtype = dt\\n',\n",
       "  '        integer_dtype = False\\n',\n",
       "  '    else:\\n',\n",
       "  '        integer_dtype = _nx.issubdtype(dtype, _nx.integer)\\n',\n",
       "  '\\n',\n",
       "  '    # Use `dtype=type(dt)` to enforce a floating point evaluation:\\n',\n",
       "  '    delta = np.subtract(stop, start, dtype=type(dt))\\n',\n",
       "  '    y = _nx.arange(\\n',\n",
       "  '        0, num, dtype=dt, device=device\\n',\n",
       "  '    ).reshape((-1,) + (1,) * ndim(delta))\\n',\n",
       "  '\\n',\n",
       "  '    # In-place multiplication y *= delta/div is faster, but prevents\\n',\n",
       "  '    # the multiplicant from overriding what class is produced, and thus\\n',\n",
       "  '    # prevents, e.g. use of Quantities, see gh-7142. Hence, we multiply\\n',\n",
       "  '    # in place only for standard scalar types.\\n',\n",
       "  '    if div > 0:\\n',\n",
       "  '        _mult_inplace = _nx.isscalar(delta)\\n',\n",
       "  '        step = delta / div\\n',\n",
       "  '        any_step_zero = (\\n',\n",
       "  '            step == 0 if _mult_inplace else _nx.asanyarray(step == 0).any())\\n',\n",
       "  '        if any_step_zero:\\n',\n",
       "  '            # Special handling for denormal numbers, gh-5437\\n',\n",
       "  '            y /= div\\n',\n",
       "  '            if _mult_inplace:\\n',\n",
       "  '                y *= delta\\n',\n",
       "  '            else:\\n',\n",
       "  '                y = y * delta\\n',\n",
       "  '        else:\\n',\n",
       "  '            if _mult_inplace:\\n',\n",
       "  '                y *= step\\n',\n",
       "  '            else:\\n',\n",
       "  '                y = y * step\\n',\n",
       "  '    else:\\n',\n",
       "  '        # sequences with 0 items or 1 item with endpoint=True (i.e. div <= 0)\\n',\n",
       "  '        # have an undefined step\\n',\n",
       "  '        step = nan\\n',\n",
       "  '        # Multiply with delta to allow possible override of output class.\\n',\n",
       "  '        y = y * delta\\n',\n",
       "  '\\n',\n",
       "  '    y += start\\n',\n",
       "  '\\n',\n",
       "  '    if endpoint and num > 1:\\n',\n",
       "  '        y[-1, ...] = stop\\n',\n",
       "  '\\n',\n",
       "  '    if axis != 0:\\n',\n",
       "  '        y = _nx.moveaxis(y, 0, axis)\\n',\n",
       "  '\\n',\n",
       "  '    if integer_dtype:\\n',\n",
       "  '        _nx.floor(y, out=y)\\n',\n",
       "  '\\n',\n",
       "  '    y = conv.wrap(y.astype(dtype, copy=False))\\n',\n",
       "  '    if retstep:\\n',\n",
       "  '        return y, step\\n',\n",
       "  '    else:\\n',\n",
       "  '        return y\\n'],\n",
       " 25)"
      ]
     },
     "execution_count": 73,
     "metadata": {},
     "output_type": "execute_result"
    }
   ],
   "source": [
    "# inspect gives us the source file\n",
    "\n",
    "inspect.getsourcelines(np.linspace)"
   ]
  }
 ],
 "metadata": {
  "kernelspec": {
   "display_name": "Python 3 (ipykernel)",
   "language": "python",
   "name": "python3"
  },
  "language_info": {
   "codemirror_mode": {
    "name": "ipython",
    "version": 3
   },
   "file_extension": ".py",
   "mimetype": "text/x-python",
   "name": "python",
   "nbconvert_exporter": "python",
   "pygments_lexer": "ipython3",
   "version": "3.13.3"
  }
 },
 "nbformat": 4,
 "nbformat_minor": 5
}

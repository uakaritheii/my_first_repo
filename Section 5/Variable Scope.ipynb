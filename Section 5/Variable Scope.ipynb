{
 "cells": [
  {
   "cell_type": "code",
   "execution_count": 2,
   "id": "initial_id",
   "metadata": {
    "ExecuteTime": {
     "end_time": "2025-05-09T14:33:01.195484Z",
     "start_time": "2025-05-09T14:33:01.193955Z"
    }
   },
   "outputs": [
    {
     "name": "stdout",
     "output_type": "stream",
     "text": [
      "7\n"
     ]
    }
   ],
   "source": [
    "import numpy as np\n",
    "def funfun():\n",
    "    x = 7 \n",
    "    y = 10\n",
    "    print(x)\n",
    "\n",
    "funfun()"
   ]
  },
  {
   "cell_type": "code",
   "execution_count": 3,
   "id": "4e99acd9-4dad-429c-a83b-42076d87eb27",
   "metadata": {},
   "outputs": [
    {
     "name": "stdout",
     "output_type": "stream",
     "text": [
      "x only has a local scope inside the function\n"
     ]
    }
   ],
   "source": [
    "try:\n",
    "    print(x)\n",
    "except NameError:\n",
    "    print(\"x only has a local scope inside the function\")"
   ]
  },
  {
   "cell_type": "code",
   "execution_count": 4,
   "id": "1e2803a9-9f95-4ebe-9a8c-f42f691568d9",
   "metadata": {},
   "outputs": [
    {
     "name": "stdout",
     "output_type": "stream",
     "text": [
      "7\n",
      "3\n"
     ]
    }
   ],
   "source": [
    "x = 3    # this variable x has a global scope so any reference to x outside of the function will retrieve the global value\n",
    "funfun()\n",
    "print(x) # the variable x has a local scope that only exists inside the function"
   ]
  },
  {
   "cell_type": "code",
   "execution_count": 6,
   "id": "dca51bac-f816-49d9-b341-04e29646f4e7",
   "metadata": {},
   "outputs": [
    {
     "name": "stdout",
     "output_type": "stream",
     "text": [
      "3\n"
     ]
    }
   ],
   "source": [
    "def fz():\n",
    "    z = 3\n",
    "    print(z)\n",
    "\n",
    "z = 4\n",
    "fz() #because z is a global varaible fz still returns a value. The local variable or value always takes precedence "
   ]
  },
  {
   "cell_type": "code",
   "execution_count": 8,
   "id": "93242e20-0e6c-4b64-ac3f-3f304c82dcd3",
   "metadata": {},
   "outputs": [
    {
     "data": {
      "text/plain": [
       "True"
      ]
     },
     "execution_count": 8,
     "metadata": {},
     "output_type": "execute_result"
    }
   ],
   "source": [
    "def fy():\n",
    "    global y  # the global keyword changes the scope of the local variable \n",
    "    y = 10\n",
    "    return y\n",
    "\n",
    "fy() == y\n"
   ]
  },
  {
   "cell_type": "code",
   "execution_count": 159,
   "id": "f37d3d59-d293-41f0-86be-ea3766a31687",
   "metadata": {},
   "outputs": [
    {
     "name": "stdout",
     "output_type": "stream",
     "text": [
      "0.63 0.37\n"
     ]
    }
   ],
   "source": [
    "# Exercise\n",
    "# Write a function that flips a coin N times and reports the average.\n",
    "\n",
    "def pcoin(n):\n",
    "    flips = np.random.randn(n)>0\n",
    "    pheads = np.mean(flips)\n",
    "    return pheads, 1 - pheads\n",
    "\n",
    "pheads, ptails = pcoin(100)\n",
    "print(pheads, ptails)\n"
   ]
  }
 ],
 "metadata": {
  "kernelspec": {
   "display_name": "Python 3 (ipykernel)",
   "language": "python",
   "name": "python3"
  },
  "language_info": {
   "codemirror_mode": {
    "name": "ipython",
    "version": 3
   },
   "file_extension": ".py",
   "mimetype": "text/x-python",
   "name": "python",
   "nbconvert_exporter": "python",
   "pygments_lexer": "ipython3",
   "version": "3.13.3"
  }
 },
 "nbformat": 4,
 "nbformat_minor": 5
}

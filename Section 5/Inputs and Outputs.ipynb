{
 "cells": [
  {
   "cell_type": "code",
   "execution_count": 2,
   "id": "initial_id",
   "metadata": {
    "ExecuteTime": {
     "end_time": "2025-05-09T10:10:01.144905Z",
     "start_time": "2025-05-09T10:10:01.141074Z"
    }
   },
   "outputs": [
    {
     "name": "stdout",
     "output_type": "stream",
     "text": [
      "60\n",
      "3\n",
      "20.0\n"
     ]
    }
   ],
   "source": [
    "# common functions\n",
    "\n",
    "lst = [10,20,30]\n",
    "sum(lst) #returns the sum of elements in the list\n",
    "len(lst) #returns the number of elements in the list\n",
    "\n",
    "print(sum(lst))\n",
    "print(len(lst))\n",
    "\n",
    "avg = sum(lst)/len(lst)\n",
    "print(avg)\n"
   ]
  },
  {
   "cell_type": "code",
   "execution_count": null,
   "id": "5f6aa01761939372",
   "metadata": {
    "ExecuteTime": {
     "end_time": "2025-05-09T10:10:01.244593Z",
     "start_time": "2025-05-09T10:10:01.243409Z"
    }
   },
   "outputs": [],
   "source": []
  },
  {
   "cell_type": "code",
   "execution_count": null,
   "id": "546dbde92a87304f",
   "metadata": {
    "ExecuteTime": {
     "end_time": "2025-05-09T10:10:01.252752Z",
     "start_time": "2025-05-09T10:10:01.251386Z"
    }
   },
   "outputs": [],
   "source": []
  }
 ],
 "metadata": {
  "kernelspec": {
   "display_name": "Python 3 (ipykernel)",
   "language": "python",
   "name": "python3"
  },
  "language_info": {
   "codemirror_mode": {
    "name": "ipython",
    "version": 3
   },
   "file_extension": ".py",
   "mimetype": "text/x-python",
   "name": "python",
   "nbconvert_exporter": "python",
   "pygments_lexer": "ipython3",
   "version": "3.13.3"
  }
 },
 "nbformat": 4,
 "nbformat_minor": 5
}

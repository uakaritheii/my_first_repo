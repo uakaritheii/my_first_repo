{
 "cells": [
  {
   "cell_type": "code",
   "execution_count": 2,
   "id": "initial_id",
   "metadata": {
    "ExecuteTime": {
     "end_time": "2025-05-09T16:37:20.583790Z",
     "start_time": "2025-05-09T16:37:20.582005Z"
    }
   },
   "outputs": [
    {
     "data": {
      "text/plain": [
       "6"
      ]
     },
     "execution_count": 2,
     "metadata": {},
     "output_type": "execute_result"
    }
   ],
   "source": [
    "def factorial(a):\n",
    "    if a == 0 or a == 1:\n",
    "        return 1\n",
    "    else:\n",
    "        return a*factorial(a-1)\n",
    "\n",
    "factorial(3)"
   ]
  },
  {
   "cell_type": "code",
   "execution_count": 22,
   "id": "9b436f65-05a4-489a-b59d-43fe4fb609e7",
   "metadata": {},
   "outputs": [
    {
     "name": "stdin",
     "output_type": "stream",
     "text": [
      "What is your preferred cake type: Chocolate or Strawberry?  penis\n"
     ]
    },
    {
     "name": "stdout",
     "output_type": "stream",
     "text": [
      "Sorry that isn't a valid cake\n",
      "I would recommend the chocolate\n",
      "Invalid\n"
     ]
    }
   ],
   "source": [
    "#if statements can be oneliners\n",
    "\n",
    "pref = input(\"What is your preferred cake type: Chocolate or Strawberry? \")\n",
    "\n",
    "if pref[0].lower() not in ['c', 's']: print(\"Sorry that isn't a valid cake\")\n",
    "\n",
    "print(\"Chocolate it is\") if pref[0].lower() == 'c' else print(\"I would recommend the chocolate\")\n",
    "\n",
    "#Similarly\n",
    "\n",
    "result = \"Chocolate it is\" if pref[0].lower() == 'c' else \"Strawberry it is\" if pref[0].lower() == 's' else \"Invalid\"\n",
    "\n",
    "print(result)\n",
    "\n"
   ]
  },
  {
   "cell_type": "code",
   "execution_count": 32,
   "id": "23f6444f-1cbc-440d-8b8a-31d9cac48d97",
   "metadata": {},
   "outputs": [
    {
     "name": "stdin",
     "output_type": "stream",
     "text": [
      "Enter a number:  3\n"
     ]
    },
    {
     "data": {
      "text/plain": [
       "'Z+'"
      ]
     },
     "execution_count": 32,
     "metadata": {},
     "output_type": "execute_result"
    }
   ],
   "source": [
    "# conjunctive conditionals can be used as well\n",
    "\n",
    "n = int(input(\"Enter a number: \"))\n",
    "classification = \"Z+\" if n >= 0 and n != 0 else \"Z\"\n",
    "classification"
   ]
  },
  {
   "cell_type": "code",
   "execution_count": 60,
   "id": "3b7a05e6-2d27-4c65-bbda-889cab4e497f",
   "metadata": {},
   "outputs": [
    {
     "name": "stdout",
     "output_type": "stream",
     "text": [
      "26\n",
      "26\n"
     ]
    },
    {
     "ename": "Exception",
     "evalue": "Vectors must be of same length",
     "output_type": "error",
     "traceback": [
      "\u001b[31m---------------------------------------------------------------------------\u001b[39m",
      "\u001b[31mException\u001b[39m                                 Traceback (most recent call last)",
      "\u001b[36mCell\u001b[39m\u001b[36m \u001b[39m\u001b[32mIn[60]\u001b[39m\u001b[32m, line 19\u001b[39m\n\u001b[32m     17\u001b[39m \u001b[38;5;28mprint\u001b[39m(dot(a,b))\n\u001b[32m     18\u001b[39m \u001b[38;5;28mprint\u001b[39m(np.dot(a,b))\n\u001b[32m---> \u001b[39m\u001b[32m19\u001b[39m \u001b[38;5;28mprint\u001b[39m(\u001b[43mdot\u001b[49m\u001b[43m(\u001b[49m\u001b[43ma\u001b[49m\u001b[43m,\u001b[49m\u001b[43mc\u001b[49m\u001b[43m)\u001b[49m)\n",
      "\u001b[36mCell\u001b[39m\u001b[36m \u001b[39m\u001b[32mIn[60]\u001b[39m\u001b[32m, line 10\u001b[39m, in \u001b[36mdot\u001b[39m\u001b[34m(a, b)\u001b[39m\n\u001b[32m      8\u001b[39m     \u001b[38;5;28;01mraise\u001b[39;00m \u001b[38;5;167;01mException\u001b[39;00m(\u001b[33m\"\u001b[39m\u001b[33mMust be numpy ndarrays!\u001b[39m\u001b[33m\"\u001b[39m) \u001b[38;5;66;03m# allows us to generate our own custom error message\u001b[39;00m\n\u001b[32m      9\u001b[39m \u001b[38;5;28;01melif\u001b[39;00m \u001b[38;5;129;01mnot\u001b[39;00m (\u001b[38;5;28mlen\u001b[39m(a) == \u001b[38;5;28mlen\u001b[39m(b)):\n\u001b[32m---> \u001b[39m\u001b[32m10\u001b[39m     \u001b[38;5;28;01mraise\u001b[39;00m \u001b[38;5;167;01mException\u001b[39;00m(\u001b[33m\"\u001b[39m\u001b[33mVectors must be of same length\u001b[39m\u001b[33m\"\u001b[39m)\n\u001b[32m     11\u001b[39m \u001b[38;5;28;01melse\u001b[39;00m:\n\u001b[32m     12\u001b[39m     \u001b[38;5;28;01mreturn\u001b[39;00m \u001b[38;5;28msum\u001b[39m(a*b)\n",
      "\u001b[31mException\u001b[39m: Vectors must be of same length"
     ]
    }
   ],
   "source": [
    "import numpy as np\n",
    "\n",
    "#Exercise\n",
    "#Create a function that computes the dot product\n",
    "\n",
    "def dot(a, b):\n",
    "    if not (isinstance(a, np.ndarray) and isinstance(b, np.ndarray)):\n",
    "        raise Exception(\"Must be numpy ndarrays!\") # allows us to generate our own custom error message\n",
    "    elif not (len(a) == len(b)):\n",
    "        raise Exception(\"Vectors must be of same length\")\n",
    "    else:\n",
    "        return sum(a*b)\n",
    "\n",
    "a = np.array([1,2,3])\n",
    "b = np.array([3,4,5])\n",
    "c = np.arange(0,8)\n",
    "print(dot(a,b))\n",
    "print(np.dot(a,b))\n",
    "print(dot(a,c))"
   ]
  }
 ],
 "metadata": {
  "kernelspec": {
   "display_name": "Python 3 (ipykernel)",
   "language": "python",
   "name": "python3"
  },
  "language_info": {
   "codemirror_mode": {
    "name": "ipython",
    "version": 3
   },
   "file_extension": ".py",
   "mimetype": "text/x-python",
   "name": "python",
   "nbconvert_exporter": "python",
   "pygments_lexer": "ipython3",
   "version": "3.13.3"
  }
 },
 "nbformat": 4,
 "nbformat_minor": 5
}

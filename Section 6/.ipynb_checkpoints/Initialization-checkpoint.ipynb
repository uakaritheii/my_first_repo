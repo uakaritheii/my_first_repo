{
 "cells": [
  {
   "cell_type": "code",
   "execution_count": 18,
   "id": "initial_id",
   "metadata": {
    "ExecuteTime": {
     "end_time": "2025-05-10T17:46:12.306452Z",
     "start_time": "2025-05-10T17:46:12.300069Z"
    }
   },
   "outputs": [
    {
     "name": "stdout",
     "output_type": "stream",
     "text": [
      "[  1.   4.   9.  16.  25.  36.  49.  64.  81. 100. 121.]\n",
      "[1, 4, 9, 16, 25, 36, 49, 64, 81, 100, 121]\n",
      "[  1.   4.   9.  16.  25.  36.  49.  64.  81. 100. 121.]\n"
     ]
    }
   ],
   "source": [
    "# Suppose you wanted to create a list whose elements are the squares of their indices\n",
    "import time\n",
    "import numpy as np\n",
    "\n",
    "def sqlist(n):\n",
    "    ct = time.time()\n",
    "    nlst = np.zeros(n)\n",
    "\n",
    "    for i in range(n):\n",
    "        nlst[i] = (i+1)**2\n",
    "\n",
    "    ft = time.time()\n",
    "    tt = ft - ct\n",
    "\n",
    "    return nlst, tt\n",
    "\n",
    "def sqlist2(n):\n",
    "    ct = time.time()\n",
    "    nlst = []\n",
    "\n",
    "    for i in range(n):\n",
    "        nlst.append((i+1)**2)\n",
    "\n",
    "    ft = time.time()\n",
    "    tt = ft - ct\n",
    "\n",
    "    return nlst, tt\n",
    "\n",
    "\n",
    "def sqlist3(n):\n",
    "    ct = time.time()\n",
    "    plst = np.array([])\n",
    "\n",
    "    for i in range(n):\n",
    "        plst = np.append(plst,(i+1)**2)\n",
    "\n",
    "    ft = time.time()\n",
    "    tt = ft - ct\n",
    "\n",
    "    return plst, tt\n",
    "\n",
    "def sqlist_fast(n):\n",
    "    ct = time.time()\n",
    "    arr = np.square(np.arange(1, n+1))\n",
    "    return arr, time.time() - ct\n",
    "    \n",
    "\n",
    "print(sqlist(11)[0])\n",
    "lst1 = sqlist2(11)[0]\n",
    "print(lst1)\n",
    "print(sqlist3(11)[0])"
   ]
  },
  {
   "cell_type": "code",
   "execution_count": 19,
   "id": "75d90980-a87e-4c43-baa0-963f1da8ceb4",
   "metadata": {
    "ExecuteTime": {
     "end_time": "2025-05-10T17:36:28.903500Z",
     "start_time": "2025-05-10T17:36:28.900976Z"
    }
   },
   "outputs": [
    {
     "name": "stdout",
     "output_type": "stream",
     "text": [
      "[0. 0. 0. 0. 0. 0. 0. 0. 0. 0.]\n",
      "[2 2 2 2 2 2 2 2 2 2]\n"
     ]
    }
   ],
   "source": [
    "# There are other ways to initialize variables\n",
    "\n",
    "print(np.zeros(10))\n",
    "print(np.full(10,2)) #populates the list with custom values"
   ]
  },
  {
   "cell_type": "code",
   "execution_count": 20,
   "id": "60461803-543e-4529-a792-68144fc925b0",
   "metadata": {
    "ExecuteTime": {
     "end_time": "2025-05-10T17:36:29.152796Z",
     "start_time": "2025-05-10T17:36:29.149396Z"
    }
   },
   "outputs": [
    {
     "name": "stdout",
     "output_type": "stream",
     "text": [
      "[[0. 0. 0. 0. 0.]\n",
      " [0. 0. 0. 0. 0.]\n",
      " [0. 0. 0. 0. 0.]\n",
      " [0. 0. 0. 0. 0.]]\n",
      "[[1. 0. 0. 0. 0.]\n",
      " [0. 0. 0. 0. 0.]\n",
      " [0. 0. 0. 0. 0.]\n",
      " [0. 0. 0. 0. 1.]]\n"
     ]
    }
   ],
   "source": [
    "# how to initialize a matrix\n",
    "\n",
    "r = np.zeros((4,5)) #input must be a tuple not adjacent int values\n",
    "print(r)\n",
    "r[0,0] = 1\n",
    "r[3,4] = 1\n",
    "print(r)\n"
   ]
  },
  {
   "cell_type": "code",
   "execution_count": 23,
   "id": "eb68799e-f70a-40b3-840d-0e32daa32c13",
   "metadata": {
    "ExecuteTime": {
     "end_time": "2025-05-10T17:46:32.652902Z",
     "start_time": "2025-05-10T17:46:31.862713Z"
    }
   },
   "outputs": [
    {
     "name": "stdout",
     "output_type": "stream",
     "text": [
      "0.00066375732421875 0.0003955364227294922 0.02003931999206543 2.0742416381835938e-05\n"
     ]
    }
   ],
   "source": [
    "# comparing the speed of different functions using the time module. See above\n",
    "\n",
    "N = 10000\n",
    "\n",
    "t1 = sqlist(N)[1]\n",
    "t2 = sqlist2(N)[1]\n",
    "t3 = sqlist3(N)[1]\n",
    "t4 = sqlist_fast(N)[1]\n",
    "\n",
    "print(t1, t2, t3, t4)\n",
    "\n",
    "#\n",
    "\n"
   ]
  },
  {
   "cell_type": "code",
   "execution_count": null,
   "id": "bc1bfc1e-ed07-4f4f-88d6-bc4427287fe3",
   "metadata": {},
   "outputs": [],
   "source": []
  },
  {
   "cell_type": "code",
   "execution_count": null,
   "id": "652b27de-5edf-40c7-ba94-1967a8a1bae9",
   "metadata": {},
   "outputs": [],
   "source": []
  }
 ],
 "metadata": {
  "kernelspec": {
   "display_name": "Python 3 (ipykernel)",
   "language": "python",
   "name": "python3"
  },
  "language_info": {
   "codemirror_mode": {
    "name": "ipython",
    "version": 3
   },
   "file_extension": ".py",
   "mimetype": "text/x-python",
   "name": "python",
   "nbconvert_exporter": "python",
   "pygments_lexer": "ipython3",
   "version": "3.13.3"
  }
 },
 "nbformat": 4,
 "nbformat_minor": 5
}

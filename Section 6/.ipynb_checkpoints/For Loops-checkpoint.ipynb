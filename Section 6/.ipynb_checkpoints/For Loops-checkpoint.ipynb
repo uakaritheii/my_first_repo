{
 "cells": [
  {
   "cell_type": "code",
   "execution_count": 6,
   "id": "initial_id",
   "metadata": {
    "ExecuteTime": {
     "end_time": "2025-05-09T18:41:19.008830Z",
     "start_time": "2025-05-09T18:41:19.007418Z"
    }
   },
   "outputs": [
    {
     "name": "stdout",
     "output_type": "stream",
     "text": [
      "2 4 1.0\n",
      "4 16 2.0\n",
      "6 36 2.584962500721156\n",
      "8 64 3.0\n",
      "10 100 3.3219280948873626\n"
     ]
    }
   ],
   "source": [
    "# for loops are used to iterate through a list\n",
    "import math\n",
    "\n",
    "for i in range(2,11,2):\n",
    "    print(i, i**2, math.log(i, 2))"
   ]
  },
  {
   "cell_type": "code",
   "execution_count": 19,
   "id": "5b79a94c-cc3d-4f62-9502-7e8c99c256ff",
   "metadata": {},
   "outputs": [
    {
     "name": "stdout",
     "output_type": "stream",
     "text": [
      "[ 2.  4.  6.  8. 10. 12. 14. 16. 18. 20.]\n",
      "The 0th value in the list stores 2.0\n",
      "The 1th value in the list stores 4.0\n",
      "The 2th value in the list stores 6.0\n",
      "The 3th value in the list stores 8.0\n",
      "The 4th value in the list stores 10.0\n",
      "The 5th value in the list stores 12.0\n",
      "The 6th value in the list stores 14.0\n",
      "The 7th value in the list stores 16.0\n",
      "The 8th value in the list stores 18.0\n",
      "The 9th value in the list stores 20.0\n"
     ]
    }
   ],
   "source": [
    "import numpy as np\n",
    "\n",
    "numbers = np.linspace(2,20,10)\n",
    "print(numbers)\n",
    "#Iterator and Iterand\n",
    "\n",
    "for i in range(len(numbers)):\n",
    "    print(f\"The {i}th value in the list stores {numbers[i]}\")"
   ]
  },
  {
   "cell_type": "code",
   "execution_count": 21,
   "id": "eb0c0e7c-f61e-4efc-aa95-2a4f32a37702",
   "metadata": {},
   "outputs": [],
   "source": [
    "# soft-coding vs hard-coding\n",
    "# soft-coding requires you to define all your parameters or variables in the beginning \n",
    "\n",
    "nit = 100\n",
    "\n",
    "for i in range(100):\n",
    "    pass\n"
   ]
  },
  {
   "cell_type": "code",
   "execution_count": 30,
   "id": "cce58ae8-d607-4dff-9300-d9bb786d1b09",
   "metadata": {},
   "outputs": [
    {
     "name": "stdout",
     "output_type": "stream",
     "text": [
      "0 is Even\n",
      "1 is Odd\n",
      "2 is Even\n",
      "3 is Odd\n",
      "4 is Even\n",
      "5 is Odd\n",
      "6 is Even\n",
      "7 is Odd\n",
      "8 is Even\n",
      "9 is Odd\n"
     ]
    }
   ],
   "source": [
    "# The modulus operator returns remainder after divsion\n",
    "\n",
    "for i in range(10):\n",
    "    print(f\"{i} is Odd\") if (i%2) else print(f\"{i} is Even\")\n",
    "\n"
   ]
  },
  {
   "cell_type": "code",
   "execution_count": 44,
   "id": "088381f4-dae9-4116-834a-4a0de727dd0a",
   "metadata": {},
   "outputs": [
    {
     "name": "stdout",
     "output_type": "stream",
     "text": [
      "[0, 1, 1, 2, 3, 5, 8, 13]\n",
      "[0, 1, 1, 2, 3, 5, 8, 13, 21, 34, 55]\n"
     ]
    }
   ],
   "source": [
    "#Exercise\n",
    "# Create a function that reports the Fibonnaci Sequence for n+3 numbers\n",
    "\n",
    "def fibb(n):\n",
    "    fibb = [0, 1, 1]\n",
    "    for i in range(n-3):\n",
    "        fibb += [fibb[-1] + fibb[-2]]\n",
    "\n",
    "    return fibb\n",
    "\n",
    "#Alternatively\n",
    "\n",
    "def fibb2(n):\n",
    "    fibb = [0, 1, 1]\n",
    "    for i in range(n):\n",
    "        fibb.append(sum(fibb[-2:])) # adds the sum of the last two terms into the new list\n",
    "\n",
    "    return fibb\n",
    "\n",
    "print(fibb(8))\n",
    "print(fibb2(8)) # the ranges differ as the 0th element of this is the 3rd element of the fibb list"
   ]
  },
  {
   "cell_type": "code",
   "execution_count": 46,
   "id": "c8f317d6-4c12-4dbd-b797-7bedafc79d62",
   "metadata": {},
   "outputs": [
    {
     "name": "stdout",
     "output_type": "stream",
     "text": [
      "1\n",
      "3\n",
      "5\n",
      "7\n",
      "9\n"
     ]
    }
   ],
   "source": [
    "#Suppose we want to iterate through a range of numbers but we want to skip through all even iterations\n",
    "\n",
    "for i in range(10):\n",
    "    if not bool(i%2):\n",
    "        continue # if the number is even we use the continue keyword to skip it. The continue keyword doesn't get run\n",
    "    print(i)"
   ]
  },
  {
   "cell_type": "code",
   "execution_count": 67,
   "id": "b1ee7e82-6277-46c0-91ca-80529c172cd2",
   "metadata": {},
   "outputs": [
    {
     "name": "stdout",
     "output_type": "stream",
     "text": [
      "Hll, my nm s Mk\n"
     ]
    }
   ],
   "source": [
    "text = 'HellO, my name is MikE'\n",
    "nstr = ''\n",
    "\n",
    "for c in text:\n",
    "    if c.lower() not in 'aeiou':\n",
    "        nstr += c\n",
    "\n",
    "print(nstr)\n"
   ]
  }
 ],
 "metadata": {
  "kernelspec": {
   "display_name": "Python 3 (ipykernel)",
   "language": "python",
   "name": "python3"
  },
  "language_info": {
   "codemirror_mode": {
    "name": "ipython",
    "version": 3
   },
   "file_extension": ".py",
   "mimetype": "text/x-python",
   "name": "python",
   "nbconvert_exporter": "python",
   "pygments_lexer": "ipython3",
   "version": "3.13.3"
  }
 },
 "nbformat": 4,
 "nbformat_minor": 5
}

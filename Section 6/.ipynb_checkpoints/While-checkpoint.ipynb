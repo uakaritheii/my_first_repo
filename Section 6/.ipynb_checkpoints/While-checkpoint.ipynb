{
 "cells": [
  {
   "cell_type": "code",
   "execution_count": 2,
   "id": "initial_id",
   "metadata": {
    "ExecuteTime": {
     "end_time": "2025-05-09T19:57:18.576417Z",
     "start_time": "2025-05-09T19:57:18.574773Z"
    }
   },
   "outputs": [
    {
     "name": "stdout",
     "output_type": "stream",
     "text": [
      "0\n",
      "1\n",
      "2\n",
      "3\n",
      "4\n",
      "5\n",
      "6\n",
      "7\n"
     ]
    }
   ],
   "source": [
    "# while loops\n",
    "# while loops continuously run indented code as long as the toggle is true\n",
    "\n",
    "toggle = True\n",
    "i = 0\n",
    "\n",
    "while toggle:\n",
    "    print(i)\n",
    "    i += 1\n",
    "\n",
    "    if i == 8:\n",
    "        # toggle = False\n",
    "        break # break is another keyword that could be used"
   ]
  },
  {
   "cell_type": "code",
   "execution_count": 3,
   "id": "38cff55c-6e64-4351-90c8-9e5ebdfad5cf",
   "metadata": {},
   "outputs": [
    {
     "name": "stdout",
     "output_type": "stream",
     "text": [
      "1\n",
      "2\n",
      "3\n",
      "4\n",
      "5\n",
      "6\n",
      "7\n",
      "8\n"
     ]
    }
   ],
   "source": [
    "i = 0\n",
    "\n",
    "while i != 8:\n",
    "    i+=1\n",
    "    print(i)"
   ]
  },
  {
   "cell_type": "code",
   "execution_count": 4,
   "id": "30bf3a4e-9504-4cc3-9e13-953f8ab0d769",
   "metadata": {},
   "outputs": [
    {
     "data": {
      "text/plain": [
       "87"
      ]
     },
     "execution_count": 4,
     "metadata": {},
     "output_type": "execute_result"
    }
   ],
   "source": [
    "import math\n",
    "import numpy as np\n",
    "# A for loop is preferred when you know in advance the number of iterations\n",
    "# A while loop is preferred when you don't know in advance the number of iterations\n",
    "\n",
    "# Exercise: Make a Poisson-Like Counter. See David Cohen for more info\n",
    "\n",
    "\n",
    "\n",
    "def poisson_counter(limit):\n",
    "    lim = math.exp(-limit)\n",
    "    n = 1\n",
    "    count = 0\n",
    "\n",
    "    while n >= lim:\n",
    "        n *= np.random.uniform([0,1])[0]\n",
    "        count += 1\n",
    "\n",
    "    return count\n",
    "\n",
    "poisson_counter(100) #the interesting thing about the poisson counter is that it gives us the same number in the range of lambda"
   ]
  },
  {
   "cell_type": "code",
   "execution_count": null,
   "id": "9d8a95ee-3c92-4388-a0b7-974368d5f38f",
   "metadata": {},
   "outputs": [],
   "source": []
  }
 ],
 "metadata": {
  "kernelspec": {
   "display_name": "Python 3 (ipykernel)",
   "language": "python",
   "name": "python3"
  },
  "language_info": {
   "codemirror_mode": {
    "name": "ipython",
    "version": 3
   },
   "file_extension": ".py",
   "mimetype": "text/x-python",
   "name": "python",
   "nbconvert_exporter": "python",
   "pygments_lexer": "ipython3",
   "version": "3.13.3"
  }
 },
 "nbformat": 4,
 "nbformat_minor": 5
}

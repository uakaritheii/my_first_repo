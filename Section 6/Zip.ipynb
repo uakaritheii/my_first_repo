{
 "cells": [
  {
   "cell_type": "code",
   "execution_count": 30,
   "id": "a92bfc79-4863-4348-8ea3-704e5ab48e02",
   "metadata": {},
   "outputs": [
    {
     "name": "stdout",
     "output_type": "stream",
     "text": [
      "3 d\n",
      "4 e\n",
      "5 s\n",
      "6 m\n",
      "7 x\n"
     ]
    }
   ],
   "source": [
    "#zip allows us to simplify this operation!\n",
    "\n",
    "somelist = [3,4,5,6,7]\n",
    "otherlist = ['d', 'e', 's', 'm', 'x']\n",
    "\n",
    "for i in range(len(somelist)):\n",
    "    print(f\"{somelist[i]} {otherlist[i]}\")"
   ]
  },
  {
   "cell_type": "code",
   "execution_count": 31,
   "id": "58b7e356-8bec-4e36-8fdb-a76141ae150b",
   "metadata": {},
   "outputs": [
    {
     "name": "stdout",
     "output_type": "stream",
     "text": [
      "3 d\n",
      "4 e\n",
      "5 s\n",
      "6 m\n",
      "7 x\n"
     ]
    }
   ],
   "source": [
    "for i, j in zip(somelist, otherlist):\n",
    "    print(i,j)"
   ]
  },
  {
   "cell_type": "code",
   "execution_count": 32,
   "id": "1ecd4d02-7b5f-43c3-8cd1-b5dd606f2349",
   "metadata": {},
   "outputs": [
    {
     "data": {
      "text/plain": [
       "[(3, 'd'), (4, 'e'), (5, 's'), (6, 'm'), (7, 'x')]"
      ]
     },
     "execution_count": 32,
     "metadata": {},
     "output_type": "execute_result"
    }
   ],
   "source": [
    "z = zip(somelist,otherlist) #z cannot be accessed i.e. z[0] is invalid and z is not subscriptable\n",
    "lz = list(z) \n",
    "lz # if we convert z to a list, we see that the pairs are stored in tuples"
   ]
  },
  {
   "cell_type": "code",
   "execution_count": 33,
   "id": "708a8216-372e-4c65-afe8-c8fc7402c932",
   "metadata": {},
   "outputs": [
    {
     "data": {
      "text/plain": [
       "[]"
      ]
     },
     "execution_count": 33,
     "metadata": {},
     "output_type": "execute_result"
    }
   ],
   "source": [
    "#zips are temporary meaning once you have created a zip and accessed it it cannot be accessed again\n",
    "lz2 = list(z)\n",
    "lz2"
   ]
  },
  {
   "cell_type": "code",
   "execution_count": 36,
   "id": "4f3d7dfc-f64e-4c77-a3b3-6e9519dfe7ab",
   "metadata": {},
   "outputs": [
    {
     "name": "stdout",
     "output_type": "stream",
     "text": [
      "1 a True\n",
      "2 b False\n",
      "3 c True\n"
     ]
    }
   ],
   "source": [
    "#zip will iterate up to the element in the smaller list if two lists aren't of the same size\n",
    "\n",
    "lst = [1,2,3,4]\n",
    "lst2 = ['a','b','c']\n",
    "lst3 = [True, False, True, False]\n",
    "\n",
    "for a,b,c in zip(lst, lst2, lst3):\n",
    "    print(a,b,c)"
   ]
  },
  {
   "cell_type": "code",
   "execution_count": 38,
   "id": "cae18c6f-fe78-47e1-9a66-c37622cf7979",
   "metadata": {},
   "outputs": [
    {
     "data": {
      "text/plain": [
       "True"
      ]
     },
     "execution_count": 38,
     "metadata": {},
     "output_type": "execute_result"
    }
   ],
   "source": [
    "#Use the zip function to create a dictionary out of the following lists\n",
    "\n",
    "names = ['alpha', 'beta', 'gamma']\n",
    "values = [10,20,30]\n",
    "D = dict()\n",
    "C = dict(zip(names,values))\n",
    "\n",
    "for n,v in zip(names,values):\n",
    "    D[n] = v\n",
    "\n",
    "C==D"
   ]
  }
 ],
 "metadata": {
  "kernelspec": {
   "display_name": "Python 3 (ipykernel)",
   "language": "python",
   "name": "python3"
  },
  "language_info": {
   "codemirror_mode": {
    "name": "ipython",
    "version": 3
   },
   "file_extension": ".py",
   "mimetype": "text/x-python",
   "name": "python",
   "nbconvert_exporter": "python",
   "pygments_lexer": "ipython3",
   "version": "3.13.3"
  }
 },
 "nbformat": 4,
 "nbformat_minor": 5
}

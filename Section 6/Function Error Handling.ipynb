{
 "cells": [
  {
   "cell_type": "code",
   "execution_count": 2,
   "id": "5c227551-c63f-4834-9320-17ded9658e4e",
   "metadata": {},
   "outputs": [
    {
     "data": {
      "text/plain": [
       "'hihihi'"
      ]
     },
     "execution_count": 2,
     "metadata": {},
     "output_type": "execute_result"
    }
   ],
   "source": [
    "def funfun(x,y):\n",
    "    return x*y\n",
    "\n",
    "funfun(3,'hi') # How can we make this unacceptable in our function"
   ]
  },
  {
   "cell_type": "code",
   "execution_count": 3,
   "id": "4accdfc0-7b01-420d-97d5-3948a8159b07",
   "metadata": {},
   "outputs": [
    {
     "name": "stdout",
     "output_type": "stream",
     "text": [
      "14.399999999999999\n"
     ]
    },
    {
     "ename": "Exception",
     "evalue": "Please only enter numeric values",
     "output_type": "error",
     "traceback": [
      "\u001b[31m---------------------------------------------------------------------------\u001b[39m",
      "\u001b[31mException\u001b[39m                                 Traceback (most recent call last)",
      "\u001b[36mCell\u001b[39m\u001b[36m \u001b[39m\u001b[32mIn[3]\u001b[39m\u001b[32m, line 7\u001b[39m\n\u001b[32m      4\u001b[39m     \u001b[38;5;28;01mreturn\u001b[39;00m x*y\n\u001b[32m      6\u001b[39m \u001b[38;5;28mprint\u001b[39m(ff(\u001b[32m3\u001b[39m,\u001b[32m4.8\u001b[39m))\n\u001b[32m----> \u001b[39m\u001b[32m7\u001b[39m \u001b[43mff\u001b[49m\u001b[43m(\u001b[49m\u001b[32;43m3\u001b[39;49m\u001b[43m,\u001b[49m\u001b[33;43m'\u001b[39;49m\u001b[33;43mint\u001b[39;49m\u001b[33;43m'\u001b[39;49m\u001b[43m)\u001b[49m\n",
      "\u001b[36mCell\u001b[39m\u001b[36m \u001b[39m\u001b[32mIn[3]\u001b[39m\u001b[32m, line 3\u001b[39m, in \u001b[36mff\u001b[39m\u001b[34m(x, y)\u001b[39m\n\u001b[32m      1\u001b[39m \u001b[38;5;28;01mdef\u001b[39;00m\u001b[38;5;250m \u001b[39m\u001b[34mff\u001b[39m(x,y):\n\u001b[32m      2\u001b[39m     \u001b[38;5;28;01mif\u001b[39;00m \u001b[38;5;129;01mnot\u001b[39;00m (\u001b[38;5;28misinstance\u001b[39m(x,(\u001b[38;5;28mint\u001b[39m,\u001b[38;5;28mfloat\u001b[39m)) \u001b[38;5;129;01mand\u001b[39;00m \u001b[38;5;28misinstance\u001b[39m(y,(\u001b[38;5;28mint\u001b[39m,\u001b[38;5;28mfloat\u001b[39m))):\n\u001b[32m----> \u001b[39m\u001b[32m3\u001b[39m         \u001b[38;5;28;01mraise\u001b[39;00m \u001b[38;5;167;01mException\u001b[39;00m(\u001b[33m'\u001b[39m\u001b[33mPlease only enter numeric values\u001b[39m\u001b[33m'\u001b[39m)\n\u001b[32m      4\u001b[39m     \u001b[38;5;28;01mreturn\u001b[39;00m x*y\n",
      "\u001b[31mException\u001b[39m: Please only enter numeric values"
     ]
    }
   ],
   "source": [
    "def ff(x,y):\n",
    "    if not (isinstance(x,(int,float)) and isinstance(y,(int,float))):\n",
    "        raise Exception('Please only enter numeric values')\n",
    "    return x*y\n",
    "\n",
    "print(ff(3,4.8))\n",
    "ff(3,'int')"
   ]
  },
  {
   "cell_type": "code",
   "execution_count": 5,
   "id": "a20be70b-e307-461d-9e36-a7890129efd9",
   "metadata": {},
   "outputs": [
    {
     "data": {
      "text/plain": [
       "24.0"
      ]
     },
     "execution_count": 5,
     "metadata": {},
     "output_type": "execute_result"
    }
   ],
   "source": [
    "#Exercise\n",
    "#Adapt funfun to accept numbers entered as strings\n",
    "#Limited solution\n",
    "\n",
    "def ffun(x,y):\n",
    "    lst = [x,y]\n",
    "\n",
    "    for i in range(len(lst)):\n",
    "        if isinstance(lst[i], str) and lst[i].isnumeric():\n",
    "            lst[i] = float(lst[i])\n",
    "\n",
    "    a, b = lst[0], lst[1]\n",
    "\n",
    "    if not (isinstance(a,(int,float)) and isinstance(b,(int,float))):\n",
    "        raise Exception(\"Input must be numeric!\")\n",
    "\n",
    "    return a*b\n",
    "\n",
    "\n",
    "ffun('3',8)"
   ]
  },
  {
   "cell_type": "code",
   "execution_count": 6,
   "id": "c258fea2-60fb-46e6-8333-f61f8498ba57",
   "metadata": {},
   "outputs": [
    {
     "name": "stdout",
     "output_type": "stream",
     "text": [
      "Couldn't complete mission\n"
     ]
    }
   ],
   "source": [
    "#Error Checking\n",
    "\n",
    "def fff(x,y):\n",
    "    try:\n",
    "        z = x**y\n",
    "        return z\n",
    "    except:\n",
    "        print(\"Couldn't complete mission\")\n",
    "fff(2, [2])"
   ]
  },
  {
   "cell_type": "code",
   "execution_count": 24,
   "id": "6ada0b8e-6eaf-470a-9d1c-34f86a70bd7c",
   "metadata": {},
   "outputs": [
    {
     "name": "stdout",
     "output_type": "stream",
     "text": [
      "Sorry one of your inputs contains non-numeric characters\n"
     ]
    }
   ],
   "source": [
    "#Final Exercise\n",
    "#Modify ff to allow for strings that are numeric in value\n",
    "\n",
    "def fufu(x,y):\n",
    "    lst = [x,y]\n",
    "    v = ''\n",
    "    for i in range(len(lst)):\n",
    "        try:\n",
    "            lst[i] = float(lst[i])\n",
    "        except:\n",
    "            print(f\"Sorry one of your inputs contains non-numeric characters\")\n",
    "            return None\n",
    "\n",
    "    return lst[0]*lst[1]\n",
    "            \n",
    "\n",
    "fufu('3','a')\n",
    "\n"
   ]
  }
 ],
 "metadata": {
  "kernelspec": {
   "display_name": "Python 3 (ipykernel)",
   "language": "python",
   "name": "python3"
  },
  "language_info": {
   "codemirror_mode": {
    "name": "ipython",
    "version": 3
   },
   "file_extension": ".py",
   "mimetype": "text/x-python",
   "name": "python",
   "nbconvert_exporter": "python",
   "pygments_lexer": "ipython3",
   "version": "3.13.3"
  }
 },
 "nbformat": 4,
 "nbformat_minor": 5
}

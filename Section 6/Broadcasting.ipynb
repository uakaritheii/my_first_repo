{
 "cells": [
  {
   "cell_type": "code",
   "execution_count": 53,
   "id": "42eff51c-c2d9-474d-b8ca-2b40a5ef8612",
   "metadata": {},
   "outputs": [
    {
     "data": {
      "text/plain": [
       "(4, 3)"
      ]
     },
     "execution_count": 53,
     "metadata": {},
     "output_type": "execute_result"
    }
   ],
   "source": [
    "import numpy as np\n",
    "import copy\n",
    "\n",
    "X = np.array([[1,2,3],\n",
    "              [2,3,4],\n",
    "              [3,4,5],\n",
    "              [4,5,6]])\n",
    "X.shape #4 rows 3 columnns"
   ]
  },
  {
   "cell_type": "code",
   "execution_count": 54,
   "id": "f514147a-8203-4fa6-9c03-b75e4df7c355",
   "metadata": {},
   "outputs": [
    {
     "name": "stdout",
     "output_type": "stream",
     "text": [
      "[[11 22 33]\n",
      " [12 23 34]\n",
      " [13 24 35]\n",
      " [14 25 36]]\n",
      "[[11 22 33]\n",
      " [12 23 34]\n",
      " [13 24 35]\n",
      " [14 25 36]]\n"
     ]
    }
   ],
   "source": [
    "w = np.array([10,20,30])\n",
    "\n",
    "Y = X\n",
    "\n",
    "for i in range(Y.shape[0]):\n",
    "    Y[i,:] += w\n",
    "print(Y)\n",
    "print(X) #huh how come X and Y are the exact same values?\n",
    "# This happens because Y is not a new variable. It is merely a pointer to the same varaible "
   ]
  },
  {
   "cell_type": "code",
   "execution_count": 55,
   "id": "14125115-beb6-4ab3-8881-efe0c942645a",
   "metadata": {},
   "outputs": [
    {
     "name": "stdout",
     "output_type": "stream",
     "text": [
      "[[False False False]\n",
      " [False False False]\n",
      " [False False False]\n",
      " [False False False]]\n"
     ]
    }
   ],
   "source": [
    "Z = copy.deepcopy(Y)\n",
    "X += w\n",
    "print(Z==X)"
   ]
  },
  {
   "cell_type": "code",
   "execution_count": 56,
   "id": "b64c7d40-4d1d-4ae7-b227-44b99f1411f8",
   "metadata": {},
   "outputs": [
    {
     "name": "stdout",
     "output_type": "stream",
     "text": [
      "[[11 22 33]\n",
      " [12 23 34]\n",
      " [13 24 35]\n",
      " [14 25 36]]\n",
      "[[21 42 63]\n",
      " [22 43 64]\n",
      " [23 44 65]\n",
      " [24 45 66]]\n",
      "[[11  0 33]\n",
      " [12  0 34]\n",
      " [13  0 35]\n",
      " [14  0 36]]\n",
      "[[ 5.5  0.  16.5]\n",
      " [ 6.   0.  17. ]\n",
      " [ 6.5  0.  17.5]\n",
      " [ 7.   0.  18. ]]\n"
     ]
    }
   ],
   "source": [
    "# Broadcasting is a way to perform row wise operations\n",
    "print(Z)\n",
    "print(Z + w)\n",
    "k = np.array([1,0,1])\n",
    "print(Z*k)\n",
    "print(Z*(k/2))"
   ]
  },
  {
   "cell_type": "code",
   "execution_count": 64,
   "id": "533262f7-b13a-41f8-9e22-1cb63104e771",
   "metadata": {},
   "outputs": [
    {
     "name": "stdout",
     "output_type": "stream",
     "text": [
      "[[11 22 33]\n",
      " [12 23 34]\n",
      " [13 24 35]\n",
      " [14 25 36]]\n",
      "[[11 22 33]\n",
      " [ 0  0  0]\n",
      " [13 24 35]\n",
      " [ 0  0  0]]\n",
      "[[11 22 33]\n",
      " [ 0  0  0]\n",
      " [13 24 35]\n",
      " [ 0  0  0]]\n"
     ]
    }
   ],
   "source": [
    "#Column-wise broadcasting requires you to define the dimensions of a matrix\n",
    "print(Z)\n",
    "\n",
    "#Method 1: Transpose original matrix then transpose back\n",
    "t = np.array([1,0,1,0])\n",
    "print((Z.transpose()*t).transpose())\n",
    "\n",
    "#Method 2: Define dimensions of a matrix\n",
    "\n",
    "t = np.array([1,0,1,0], ndmin = 2).T # T is also transpose\n",
    "print(Z*t)"
   ]
  },
  {
   "cell_type": "code",
   "execution_count": 94,
   "id": "66085dab-2438-4bab-b448-08c920cd7311",
   "metadata": {},
   "outputs": [
    {
     "name": "stdout",
     "output_type": "stream",
     "text": [
      "[0 1 2 3 4 5 6 7 8]\n",
      " \n",
      "[[0 1 2]\n",
      " [3 4 5]\n",
      " [6 7 8]]\n",
      " \n",
      "[[0 1 2]\n",
      " [3 4 5]\n",
      " [6 7 8]\n",
      " [0 1 2]\n",
      " [3 4 5]\n",
      " [6 7 8]\n",
      " [0 1 2]\n",
      " [3 4 5]\n",
      " [6 7 8]]\n",
      " \n",
      "[[ 0  0  0]\n",
      " [ 3  4  5]\n",
      " [12 14 16]\n",
      " [ 0  3  6]\n",
      " [12 16 20]\n",
      " [30 35 40]\n",
      " [ 0  6 12]\n",
      " [21 28 35]\n",
      " [48 56 64]]\n"
     ]
    }
   ],
   "source": [
    "#Exercise\n",
    "# 1) create a list of integers from 0 to 8 (v)\n",
    "v = np.arange(9)\n",
    "print(v)\n",
    "print(' ')\n",
    "\n",
    "#2) resahpe to a 3x3 matrix (M)\n",
    "M = v.reshape(3,3)\n",
    "print(M)\n",
    "print(' ')\n",
    "\n",
    "#3) repeat the matrix to a 9x3 (C)\n",
    "C = np.tile(M,(3,1))\n",
    "print(C)\n",
    "print(' ')\n",
    "\n",
    "#4) broadcast-multiply with initial vector (B)\n",
    "v = v.reshape(9,1)\n",
    "print(C*v)"
   ]
  },
  {
   "cell_type": "code",
   "execution_count": null,
   "id": "461d1afa-b260-4c6b-9829-3b7f3fc72a09",
   "metadata": {},
   "outputs": [],
   "source": []
  }
 ],
 "metadata": {
  "kernelspec": {
   "display_name": "Python 3 (ipykernel)",
   "language": "python",
   "name": "python3"
  },
  "language_info": {
   "codemirror_mode": {
    "name": "ipython",
    "version": 3
   },
   "file_extension": ".py",
   "mimetype": "text/x-python",
   "name": "python",
   "nbconvert_exporter": "python",
   "pygments_lexer": "ipython3",
   "version": "3.13.3"
  }
 },
 "nbformat": 4,
 "nbformat_minor": 5
}

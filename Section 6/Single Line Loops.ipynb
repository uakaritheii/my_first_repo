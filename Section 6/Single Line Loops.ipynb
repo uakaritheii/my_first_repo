{
 "cells": [
  {
   "cell_type": "code",
   "execution_count": 7,
   "id": "b7371e29-7ce5-439f-b521-c3961cc66e64",
   "metadata": {},
   "outputs": [
    {
     "data": {
      "text/plain": [
       "\u001b[31mSignature:\u001b[39m random.randint(a, b)\n",
       "\u001b[31mDocstring:\u001b[39m\n",
       "Return random integer in range [a, b], including both end points.\n",
       "        \n",
       "\u001b[31mSource:\u001b[39m   \n",
       "    \u001b[38;5;28;01mdef\u001b[39;00m randint(self, a, b):\n",
       "        \u001b[33m\"\"\"Return random integer in range [a, b], including both end points.\u001b[39m\n",
       "\u001b[33m        \"\"\"\u001b[39m\n",
       "\n",
       "        \u001b[38;5;28;01mreturn\u001b[39;00m self.randrange(a, b+\u001b[32m1\u001b[39m)\n",
       "\u001b[31mFile:\u001b[39m      c:\\users\\justa\\appdata\\local\\programs\\python\\python313\\lib\\random.py\n",
       "\u001b[31mType:\u001b[39m      method"
      ]
     },
     "metadata": {},
     "output_type": "display_data"
    }
   ],
   "source": [
    "import random\n",
    "\n",
    "random.randint(1,10) #upper and lower bounds are inclusive!\n",
    "??random.randint"
   ]
  },
  {
   "cell_type": "code",
   "execution_count": 23,
   "id": "c3931843-b313-4add-9ca4-9a9b8d046455",
   "metadata": {},
   "outputs": [
    {
     "name": "stdout",
     "output_type": "stream",
     "text": [
      "Number is greater than 1\n",
      "Number is greater than 5\n",
      "I am medium\n"
     ]
    }
   ],
   "source": [
    "# A few one line python if statements\n",
    "\n",
    "if random.randint(1,10) >1: print(\"Number is greater than 1\")\n",
    "\n",
    "print(\"Number is greater than 5\") if random.randint(1,10)>5 else print(\"Number is less than or equal to 5\")\n",
    "\n",
    "print(\"I am big\") if random.randint(1,10)>8 else print(\"I am medium\") if random.randint(1,10)>4 else print(\"I am small\")\n"
   ]
  },
  {
   "cell_type": "code",
   "execution_count": 26,
   "id": "a16133d9-bcb9-48e9-a4a8-6df6b7c517c6",
   "metadata": {},
   "outputs": [
    {
     "name": "stdout",
     "output_type": "stream",
     "text": [
      "0\n",
      "1\n",
      "4\n",
      "9\n",
      "16\n",
      "25\n",
      "36\n",
      "49\n",
      "64\n",
      "81\n"
     ]
    }
   ],
   "source": [
    "for i in range(10):\n",
    "    print(i**2)"
   ]
  },
  {
   "cell_type": "code",
   "execution_count": 29,
   "id": "59c581bb-6d4b-4d03-9ed2-259ebc7f1628",
   "metadata": {},
   "outputs": [
    {
     "name": "stdout",
     "output_type": "stream",
     "text": [
      "0\n",
      "1\n",
      "4\n",
      "9\n",
      "16\n",
      "25\n",
      "36\n",
      "49\n",
      "64\n",
      "81\n"
     ]
    },
    {
     "data": {
      "text/plain": [
       "[None, None, None, None, None, None, None, None, None, None]"
      ]
     },
     "execution_count": 29,
     "metadata": {},
     "output_type": "execute_result"
    }
   ],
   "source": [
    "# one line for loops\n",
    "\n",
    "[print(i**2) for i in range(10)] # Print is of data type is NoneType. The list is being populated with prints"
   ]
  },
  {
   "cell_type": "code",
   "execution_count": 33,
   "id": "fb9d3f55-a8d2-4198-8b5b-44ddb852762c",
   "metadata": {},
   "outputs": [
    {
     "name": "stdout",
     "output_type": "stream",
     "text": [
      "[0, 1, 4, 9, 16, 25, 36, 49, 64, 81]\n"
     ]
    },
    {
     "data": {
      "text/plain": [
       "[0, 4, 16, 36, 64]"
      ]
     },
     "execution_count": 33,
     "metadata": {},
     "output_type": "execute_result"
    }
   ],
   "source": [
    "# List comprehensions are used to avoid this\n",
    "\n",
    "print([(i**2) for i in range(10)])\n",
    "\n",
    "[(i**2) for i in range(10) if not i%2]"
   ]
  },
  {
   "cell_type": "code",
   "execution_count": 38,
   "id": "845de465-6413-4744-8a3e-024d916e3ca4",
   "metadata": {},
   "outputs": [
    {
     "name": "stdout",
     "output_type": "stream",
     "text": [
      "P\n",
      "Y\n",
      "t\n",
      "h\n",
      "o\n",
      "N\n",
      "P\n",
      "Y\n",
      "t\n",
      "h\n",
      "o\n",
      "N\n"
     ]
    }
   ],
   "source": [
    "#Exercises\n",
    "#Use a list comprehension to condense the following\n",
    "\n",
    "text = ['Promising', 'Yves', 'that', 'home', 'on', 'Nobb']\n",
    "for word in text:\n",
    "    print(word[0])\n",
    "\n",
    "[word[0] for word in text]\n",
    "\n",
    "#Similarly,\n",
    "\n",
    "[print(word[0]) for word in text]; #semicolon suppresses outputting the list itself which contains only Nones"
   ]
  },
  {
   "cell_type": "code",
   "execution_count": 46,
   "id": "e966fd67-1a4a-4f6c-afa1-4d907903a899",
   "metadata": {},
   "outputs": [
    {
     "name": "stdout",
     "output_type": "stream",
     "text": [
      "[0, 'Odd', 2, 'Odd', 4, 'Odd', 6, 'Odd', 8, 'Odd']\n"
     ]
    },
    {
     "data": {
      "text/plain": [
       "[0, 'Odd', 2, 'Odd', 4, 'Odd', 6, 'Odd', 8, 'Odd']"
      ]
     },
     "execution_count": 46,
     "metadata": {},
     "output_type": "execute_result"
    }
   ],
   "source": [
    "# Use a list comprehension to condense the following\n",
    "\n",
    "newlist = ['']*10\n",
    "\n",
    "for i in range(10):\n",
    "    if i%2 == 1:\n",
    "        newlist[i] = 'Odd'\n",
    "    else:\n",
    "        newlist[i] = i\n",
    "\n",
    "print(newlist)\n",
    "\n",
    "['Odd' if i%2 else i for i in range(10)]\n"
   ]
  },
  {
   "cell_type": "code",
   "execution_count": 67,
   "id": "18eb3f2b-86fe-4f30-a9e4-65378cca293c",
   "metadata": {},
   "outputs": [
    {
     "name": "stdout",
     "output_type": "stream",
     "text": [
      "[-3.  -2.4 -1.8 -1.2 -0.6  0.   0.6  1.2  1.8  2.4  3. ]\n",
      "[9.   5.76 3.24 1.44 0.36 0.   0.36 1.44 3.24 5.76 9.  ]\n"
     ]
    },
    {
     "data": {
      "text/plain": [
       "[9.0,\n",
       " 5.76,\n",
       " 3.24,\n",
       " 1.4400000000000004,\n",
       " 0.3600000000000001,\n",
       " 0.0,\n",
       " 0.3599999999999996,\n",
       " 1.4400000000000004,\n",
       " 3.2399999999999993,\n",
       " 5.759999999999997,\n",
       " 9.0]"
      ]
     },
     "execution_count": 67,
     "metadata": {},
     "output_type": "execute_result"
    }
   ],
   "source": [
    "# Use list comprehensions to create the following\n",
    "import numpy as np\n",
    "\n",
    "x1 = np.linspace(-3,3,11)# linspace is inclusive\n",
    "y1 = x1**2\n",
    "print(x1)\n",
    "print(y1)\n",
    "\n",
    "[(-3 + (3/5)*i)**2 for i in range(11)]\n"
   ]
  }
 ],
 "metadata": {
  "kernelspec": {
   "display_name": "Python 3 (ipykernel)",
   "language": "python",
   "name": "python3"
  },
  "language_info": {
   "codemirror_mode": {
    "name": "ipython",
    "version": 3
   },
   "file_extension": ".py",
   "mimetype": "text/x-python",
   "name": "python",
   "nbconvert_exporter": "python",
   "pygments_lexer": "ipython3",
   "version": "3.13.3"
  }
 },
 "nbformat": 4,
 "nbformat_minor": 5
}
